{
  "cells": [
    {
      "cell_type": "markdown",
      "metadata": {
        "id": "gBO5jcSMYOgW"
      },
      "source": [
        "Before starting the program, upload the animal_latin_colloquial.csv file from data folder in the github repo to home folder in google colab"
      ]
    },
    {
      "cell_type": "markdown",
      "source": [
        "# Imports"
      ],
      "metadata": {
        "id": "Dcev3KLr6r7E"
      }
    },
    {
      "cell_type": "code",
      "execution_count": 1,
      "metadata": {
        "id": "7hiVrp5rZVz8"
      },
      "outputs": [],
      "source": [
        "import os\n",
        "import requests\n",
        "import pandas as pd\n",
        "from PIL import Image\n",
        "from io import BytesIO\n",
        "from requests.adapters import HTTPAdapter\n",
        "from requests.packages.urllib3.util.retry import Retry\n",
        "from tqdm import tqdm  # Progress bar\n",
        "\n",
        "# For loading in dataset images and annotations\n",
        "import json\n",
        "import os\n",
        "\n",
        "from etils import epath\n",
        "import numpy as np\n",
        "import tensorflow_datasets.public_api as tfds\n",
        "\n",
        "# Displaying sample images\n",
        "import itertools\n",
        "\n",
        "import tarfile\n",
        "import glob\n",
        "import re\n",
        "import matplotlib.pyplot as plt\n",
        "import matplotlib.image as mpimg\n",
        "\n",
        "\n",
        "import matplotlib.pyplot as plt\n",
        "import numpy as np\n",
        "import pathlib\n",
        "\n",
        "# python imaging library\n",
        "# adds image processing capabilities to the interpreter\n",
        "import PIL\n",
        "import tensorflow as tf\n",
        "\n",
        "from tensorflow import keras\n",
        "from tensorflow.keras import layers, models\n",
        "from tensorflow.keras.models import Sequential\n",
        "from tensorflow.keras.applications import ResNet50\n",
        "from tensorflow.keras.layers.experimental import preprocessing"
      ]
    },
    {
      "cell_type": "markdown",
      "metadata": {
        "id": "uudsdfavI-6j"
      },
      "source": [
        "# Animal pipeline class"
      ]
    },
    {
      "cell_type": "code",
      "execution_count": 2,
      "metadata": {
        "id": "TDIO1MeDmGuF"
      },
      "outputs": [],
      "source": [
        "# Animal Pipeline class from src/preprocessing folder\n",
        "class AnimalPipeline:\n",
        "    def __init__(self, dataset_path):\n",
        "        self.dataset = pd.read_csv(dataset_path)\n",
        "        self.dataset['Colloquial Name'] = self.dataset['Colloquial Name'].str.strip().str.lower()\n",
        "        self.dataset['Latin Name'] = self.dataset['Latin Name'].str.strip().str.lower()\n",
        "\n",
        "    def sanitize_name(self, name):\n",
        "        \"\"\" Sanitize the input name to match the dataset format. \"\"\"\n",
        "        return name.strip().lower()  # Convert to lowercase and remove leading/trailing spaces\n",
        "\n",
        "    def animal_exists(self, colloquial_name):\n",
        "        \"\"\" Check if an animal exists in the dataset by its colloquial name. \"\"\"\n",
        "        sanitized_name = self.sanitize_name(colloquial_name)\n",
        "        exists = not self.dataset[self.dataset['Colloquial Name'] == sanitized_name].empty\n",
        "        if exists:\n",
        "            print(f\"'{colloquial_name}' exists in the dataset.\")\n",
        "        else:\n",
        "            print(f\"'{colloquial_name}' does not exist in the dataset.\")\n",
        "        return exists\n",
        "\n",
        "    def get_latin_name(self, colloquial_name):\n",
        "        \"\"\" Get the Latin name for a given colloquial name if it exists. \"\"\"\n",
        "        sanitized_name = self.sanitize_name(colloquial_name)\n",
        "        result = self.dataset[self.dataset['Colloquial Name'] == sanitized_name]\n",
        "        if not result.empty:\n",
        "            latin_name = result['Latin Name'].values[0]\n",
        "            return latin_name\n",
        "        else:\n",
        "            print(f\"No Latin name found for '{colloquial_name}' in the dataset.\")\n",
        "            return None\n",
        "\n",
        "    def get_latin_names(self, colloquial_names):\n",
        "        \"\"\" Get a list of Latin names for the given list of colloquial names. \"\"\"\n",
        "        latin_names = []\n",
        "        for name in colloquial_names:\n",
        "            latin_name = self.get_latin_name(name)\n",
        "            if latin_name:\n",
        "                latin_names.append(latin_name)\n",
        "        return latin_names\n",
        "\n",
        "    def check_latin_name(self, latin_name):\n",
        "        \"\"\" Check if a Latin name exists in the dataset. \"\"\"\n",
        "        sanitized_name = self.sanitize_name(latin_name)\n",
        "        exists = not self.dataset[self.dataset['Latin Name'] == sanitized_name].empty\n",
        "        return exists"
      ]
    },
    {
      "cell_type": "markdown",
      "metadata": {
        "id": "5Nw7lTWQpCeJ"
      },
      "source": [
        "# Gathering species and number of images per species"
      ]
    },
    {
      "cell_type": "code",
      "execution_count": 9,
      "metadata": {
        "colab": {
          "base_uri": "https://localhost:8080/"
        },
        "id": "-THozWwnmqsb",
        "outputId": "c1c1aba8-489c-4879-edf1-b6fcbc5e6a93"
      },
      "outputs": [
        {
          "output_type": "stream",
          "name": "stdout",
          "text": [
            "Enter the number of animals you want to train: \n",
            "1\n",
            "Enter the name of the animal: \n",
            "lion\n",
            "Enter the maximum number of images you want to download for each animal: \n",
            "1\n",
            "'lion' exists in the dataset.\n"
          ]
        }
      ],
      "source": [
        "species_names = []\n",
        "numAnimals = int(input(\"Enter the number of animals you want to train: \\n\"))\n",
        "for i in range(numAnimals):\n",
        "    species_names.append(input(\"Enter the name of the animal: \\n\"))\n",
        "\n",
        "max_images_per_species = int(input(\"Enter the maximum number of images you want to download for each animal: \\n\"))\n",
        "\n",
        "file_path = \"/home/animal_latin_colloquial.csv\"\n",
        "\n",
        "pipeline = AnimalPipeline(file_path)\n",
        "\n",
        "for name in species_names.copy():\n",
        "    if pipeline.animal_exists(name) == False:\n",
        "        if pipeline.check_latin_name(name) == False:\n",
        "            print(f\"{name} does not exist in the dataset. Please enter a valid animal name.\")\n",
        "            species_names.remove(name)\n",
        "            continue\n",
        "    latin_name = pipeline.get_latin_name(name)\n",
        "    species_names.remove(name)\n",
        "    species_names.append(latin_name)\n",
        "\n",
        "IMG_HEIGHT = 180; IMG_WIDTH = 180   # size of image has to 180x180 since ResNet50 is used"
      ]
    },
    {
      "cell_type": "markdown",
      "metadata": {
        "id": "7v74cIZcosMU"
      },
      "source": [
        "# Loading inaturalist images for training split via iNaturalist API"
      ]
    },
    {
      "cell_type": "code",
      "execution_count": 10,
      "metadata": {
        "id": "djOORSiK8SKU"
      },
      "outputs": [],
      "source": [
        "# Function to download and resize image\n",
        "def download_and_resize_image(url, save_dir, obs_id, max_size=(IMG_HEIGHT, IMG_WIDTH)):\n",
        "    try:\n",
        "        response = requests.get(url, timeout=10)\n",
        "        response.raise_for_status()\n",
        "        img = Image.open(BytesIO(response.content))\n",
        "        img = img.resize(max_size, resample = Image.Resampling.BICUBIC)\n",
        "\n",
        "        # Ensure the save directory exists\n",
        "        os.makedirs(save_dir, exist_ok=True)\n",
        "\n",
        "        # Save the image with a unique name based on the observation ID\n",
        "        img_name = f\"{obs_id}.jpg\"\n",
        "        img_path = os.path.join(save_dir, img_name)\n",
        "        img.save(img_path)\n",
        "        return img_path\n",
        "    except Exception as e:\n",
        "        return None"
      ]
    },
    {
      "cell_type": "code",
      "execution_count": 11,
      "metadata": {
        "colab": {
          "base_uri": "https://localhost:8080/"
        },
        "id": "Gt6_uK1j-E30",
        "outputId": "e4903d45-e581-4281-f766-17fb31fa2d24"
      },
      "outputs": [
        {
          "output_type": "stream",
          "name": "stderr",
          "text": [
            "Processing observations for panthera leo:   0%|          | 1/200 [00:00<02:05,  1.59it/s]"
          ]
        },
        {
          "output_type": "stream",
          "name": "stdout",
          "text": [
            "Data saved to /home/panthera_leo_dataset.csv for species: panthera leo\n"
          ]
        },
        {
          "output_type": "stream",
          "name": "stderr",
          "text": [
            "\n"
          ]
        }
      ],
      "source": [
        "session = requests.Session()\n",
        "retry_strategy = Retry(\n",
        "    total=3,\n",
        "    status_forcelist=[429, 500, 502, 503, 504],\n",
        "    backoff_factor=1\n",
        ")\n",
        "adapter = HTTPAdapter(max_retries=retry_strategy)\n",
        "session.mount('https://', adapter)\n",
        "\n",
        "for species_name in species_names:\n",
        "    try:\n",
        "        # Directory to save images for the current species, change as needed\n",
        "        save_dir = f'/home/DataSet/{species_name.replace(\" \", \"_\")}_images'\n",
        "\n",
        "        # Fetch taxon ID for the current species name\n",
        "        search_response = session.get(f'https://api.inaturalist.org/v1/taxa?q={species_name}&rank=species', timeout=10).json()\n",
        "        if not search_response['results']:\n",
        "            print(f\"No taxon found for species: {species_name}\")\n",
        "            continue\n",
        "\n",
        "        # Assume the first result is the desired species\n",
        "        taxon_id = search_response['results'][0]['id']\n",
        "\n",
        "        observation_ids = []\n",
        "        image_urls = []\n",
        "        common_names = []\n",
        "        scientific_names = []\n",
        "\n",
        "        valid_image_count = 0\n",
        "\n",
        "        # Fetch observations for the current species until the desired number of images is reached\n",
        "        page = 1\n",
        "        while valid_image_count < max_images_per_species:\n",
        "            observations_response = session.get(\n",
        "                f'https://api.inaturalist.org/v1/observations?taxon_id={taxon_id}&per_page=200&page={page}', timeout=10\n",
        "            ).json()\n",
        "            observations = observations_response['results']\n",
        "\n",
        "            if not observations:\n",
        "                break\n",
        "\n",
        "            for observation in tqdm(observations, desc=f'Processing observations for {species_name}'):\n",
        "                if valid_image_count >= max_images_per_species:\n",
        "                    break\n",
        "\n",
        "                # Extract and store observation details\n",
        "                obs_id = observation['id']\n",
        "                taxon = observation.get('taxon')\n",
        "                if taxon:\n",
        "                    common_name = taxon.get('preferred_common_name', 'No common name available')\n",
        "                    scientific_name = taxon.get('name', 'No scientific name available')\n",
        "                else:\n",
        "                    common_name = 'No common name available'\n",
        "                    scientific_name = 'No scientific name available'\n",
        "\n",
        "                # Extract and store image data\n",
        "                if 'observation_photos' in observation and observation['observation_photos']:\n",
        "                    photo = observation['observation_photos'][0]['photo']\n",
        "                    image_url = photo['url']\n",
        "                    image_path = download_and_resize_image(image_url, save_dir=save_dir, obs_id=obs_id, max_size = (IMG_HEIGHT, IMG_WIDTH))\n",
        "                    if image_path:\n",
        "                        observation_ids.append(obs_id)\n",
        "                        common_names.append(common_name)\n",
        "                        scientific_names.append(scientific_name)\n",
        "                        image_urls.append(image_url)\n",
        "                        valid_image_count += 1\n",
        "\n",
        "            page += 1\n",
        "\n",
        "        # Create a DataFrame with observation details for the current species\n",
        "        data = {\n",
        "            'Observation ID': observation_ids,\n",
        "            'Common Name': common_names,\n",
        "            'Scientific Name': scientific_names,\n",
        "            'Image URL': image_urls,\n",
        "            'Image Path': [os.path.join(save_dir, f\"{obs_id}.jpg\") for obs_id in observation_ids]\n",
        "        }\n",
        "        df = pd.DataFrame(data)\n",
        "\n",
        "        # Cap the dataset size to match the number of images available\n",
        "        if valid_image_count < max_images_per_species:\n",
        "            df = df.head(valid_image_count)\n",
        "\n",
        "        # Save to a CSV file for the current species, change as needed\n",
        "        csv_path = f'/home/{species_name.replace(\" \", \"_\")}_dataset.csv'\n",
        "        df.to_csv(csv_path, index=False)\n",
        "\n",
        "        print(f\"Data saved to {csv_path} for species: {species_name}\")\n",
        "\n",
        "    except requests.exceptions.HTTPError as e:\n",
        "        print(f\"HTTP error occurred: {e}\")"
      ]
    },
    {
      "cell_type": "code",
      "execution_count": 12,
      "metadata": {
        "colab": {
          "base_uri": "https://localhost:8080/"
        },
        "id": "D4BY33NYBd6Y",
        "outputId": "1c4c2c02-8c34-42d6-99ae-ba31f234f80c"
      },
      "outputs": [
        {
          "output_type": "stream",
          "name": "stdout",
          "text": [
            "1\n"
          ]
        }
      ],
      "source": [
        "# Count number of images downloaded\n",
        "path = '/home/DataSet'\n",
        "folders = os.listdir(path)\n",
        "totalImages = 0\n",
        "for folder in folders:\n",
        "  images = os.listdir(f\"{path}/{folder}\")\n",
        "  totalImages += len(images)\n",
        "\n",
        "print(totalImages)"
      ]
    },
    {
      "cell_type": "markdown",
      "metadata": {
        "id": "p7821JYxowqv"
      },
      "source": [
        "# Loading inaturalist images for validation split via inat competition 2021"
      ]
    },
    {
      "cell_type": "markdown",
      "metadata": {
        "id": "EN-jz3ZdpYo4"
      },
      "source": [
        "## Setup"
      ]
    },
    {
      "cell_type": "code",
      "execution_count": 13,
      "metadata": {
        "id": "JXh3xo6sDEHL"
      },
      "outputs": [],
      "source": [
        "dm = tfds.download.DownloadManager(download_dir='/home')\n",
        "\n",
        "URL = 'https://ml-inat-competition-datasets.s3.amazonaws.com/2021'    # endpoint to load images from\n",
        "\n",
        "# maps split type to split file name\n",
        "SPLIT_FILENAMES = {\n",
        "    'train': 'train',\n",
        "    'mini': 'train_mini',\n",
        "    'val': 'val',\n",
        "    'test': 'public_test',\n",
        "}\n",
        "\n",
        "# Only load validation set\n",
        "SPLIT = 'val'\n",
        "SPLIT_FILE = SPLIT_FILENAMES[SPLIT]\n",
        "\n",
        "# maps dataset to split tar & json files\n",
        "splitDownloads = {}"
      ]
    },
    {
      "cell_type": "markdown",
      "metadata": {
        "id": "TALrHfwCpawC"
      },
      "source": [
        "## Download"
      ]
    },
    {
      "cell_type": "code",
      "execution_count": 14,
      "metadata": {
        "colab": {
          "base_uri": "https://localhost:8080/",
          "height": 150,
          "referenced_widgets": [
            "afbc802f2a2f49729455073a57515005",
            "2112fc723e764e399035a228c874c88a",
            "fd924c81f6d04a708617074d99940b0e",
            "1499c6808ad54de795730b47257e4b11",
            "8a47257d11384762a3c0818fb5a534a7",
            "0b7982625f54427f8da278f0a8fea9dc",
            "2ea3c29219224293a04c78934381365c",
            "f49f322eaf5a4983a0ead0c22d6a6e15",
            "fb1c23e6650f47fd9a0fe3c6262342f3",
            "d66236e2c5024f6f923ffcec468713c6",
            "2c868d6cd8a74f50b3f23768d5ce2087",
            "ed5e3c437df04292a0b5fb9b08a71991",
            "7a6f23e3a8a245fbb3731aa9c199dc65",
            "beaa576139154f79aecb3d6eeb3d8e3f",
            "f14f007a79ab4965b78b4c2e5ef6f6c3",
            "345aa3edceff427c8d199134b60d11e2",
            "032ad5a62a7747988815b839c27a79aa",
            "92e5a235270b4aa289b04c2b4df45848",
            "613f2c0a9c1647bfb2f12947c656535f",
            "889464201aa7464e83bb130235656cbd",
            "2d56fa0eeb3746c6b11780fbf19e0cf5",
            "2a688b1a9ccd4b39ad84c0425c95e678",
            "4a969cbc84e446b897805af3b00d89a7",
            "df32f0cb097741ad91ad8473e246ca17",
            "7e8827c0e88f45e89522fc7ae6f6c502",
            "d8c105edb4b84937ba54d61bc6cb4ca0",
            "21095967c97c46829bbc9c5a5ce48a56",
            "d09263d1b2ec4a40a1e3e07b549ea25f",
            "825331b0432f4468a3a3cab6e4f06602",
            "eb58292a8d984b5599364a3939aa30be",
            "225f9c4d20234da98d8ad544f79c4992",
            "e6e88f8a6cb54e6ca6dcef0765a04139",
            "801e20e2fd0d401ebba761bc72fa9466"
          ]
        },
        "id": "UJ7DiW5EDhGU",
        "outputId": "5a87a964-d595-43bd-e36c-2348441f5ab3"
      },
      "outputs": [
        {
          "output_type": "stream",
          "name": "stdout",
          "text": [
            "{'val_img': <tensorflow_datasets.core.download.resource.Resource object at 0x7dfa75c0fb20>, 'val_json': 'https://ml-inat-competition-datasets.s3.amazonaws.com/2021/val.json.tar.gz'}\n"
          ]
        },
        {
          "output_type": "display_data",
          "data": {
            "text/plain": [
              "Dl Completed...: 0 url [00:00, ? url/s]"
            ],
            "application/vnd.jupyter.widget-view+json": {
              "version_major": 2,
              "version_minor": 0,
              "model_id": "afbc802f2a2f49729455073a57515005"
            }
          },
          "metadata": {}
        },
        {
          "output_type": "display_data",
          "data": {
            "text/plain": [
              "Dl Size...: 0 MiB [00:00, ? MiB/s]"
            ],
            "application/vnd.jupyter.widget-view+json": {
              "version_major": 2,
              "version_minor": 0,
              "model_id": "ed5e3c437df04292a0b5fb9b08a71991"
            }
          },
          "metadata": {}
        },
        {
          "output_type": "display_data",
          "data": {
            "text/plain": [
              "Extraction completed...: 0 file [00:00, ? file/s]"
            ],
            "application/vnd.jupyter.widget-view+json": {
              "version_major": 2,
              "version_minor": 0,
              "model_id": "4a969cbc84e446b897805af3b00d89a7"
            }
          },
          "metadata": {}
        }
      ],
      "source": [
        "# download image tar file\n",
        "splitDownloads[f'{SPLIT}_img'] =  tfds.download.Resource(\n",
        "          url=f'{URL}/{SPLIT_FILE}.tar.gz',\n",
        "          extract_method=tfds.download.ExtractMethod.NO_EXTRACT,\n",
        "      )\n",
        "# download json annotation file\n",
        "splitDownloads[f'{SPLIT}_json'] = f'{URL}/{SPLIT_FILE}.json.tar.gz'\n",
        "\n",
        "print(splitDownloads)\n",
        "\n",
        "outputPaths = dm.download_and_extract(splitDownloads)     # downloading the tar file containing validation images"
      ]
    },
    {
      "cell_type": "markdown",
      "metadata": {
        "id": "kc45dBqH59U-"
      },
      "source": [
        "## Retrieving annotations from JSON file to load images from validation dataset\n"
      ]
    },
    {
      "cell_type": "code",
      "execution_count": 15,
      "metadata": {
        "id": "EmAggrbQ6DNT"
      },
      "outputs": [],
      "source": [
        "# paths to loaded dataset\n",
        "\n",
        "imagesArchive = outputPaths[f'{SPLIT}_img']\n",
        "jsonFile = os.path.join(outputPaths[f'{SPLIT}_json'],f'{SPLIT_FILE}.json')"
      ]
    },
    {
      "cell_type": "code",
      "execution_count": 16,
      "metadata": {
        "id": "MzF_7trd6GIo"
      },
      "outputs": [],
      "source": [
        "with epath.Path(jsonFile).open('r') as f:\n",
        "      inatJson = json.load(f)"
      ]
    },
    {
      "cell_type": "code",
      "execution_count": 17,
      "metadata": {
        "id": "_S7UgmyK6Hax"
      },
      "outputs": [],
      "source": [
        "def format(label: str):\n",
        "      # replace ' ' with '_' in a string\n",
        "      return label.lower().replace(' ', '_')\n",
        "\n",
        "# retrieves annotations (categories, id and image directory) for an image\n",
        "def getAnnotation(idx, image_id):\n",
        "\n",
        "      if 'annotations' in inatJson:\n",
        "\n",
        "        # get the annotations object that matches our ID\n",
        "        annotation = inatJson['annotations'][idx]\n",
        "        assert annotation['image_id'] == image_id\n",
        "\n",
        "        # retrieve 'categories' object corresponding to the id in the annotation object\n",
        "        cat = inatJson['categories'][annotation['category_id']]\n",
        "\n",
        "        # extract important metadata\n",
        "        category = format(cat['name'])\n",
        "        superCategory = format(cat['supercategory'])\n",
        "        imageDirectory = cat['image_dir_name']\n",
        "\n",
        "      else:\n",
        "        # no metadata found\n",
        "        category, superCategory, imageDirectory = -1, -1, -1\n",
        "\n",
        "      return category, superCategory, imageDirectory"
      ]
    },
    {
      "cell_type": "markdown",
      "metadata": {
        "id": "pjgO8W3B6Pqx"
      },
      "source": [
        "## Curating collection of annotated images"
      ]
    },
    {
      "cell_type": "markdown",
      "metadata": {
        "id": "NdetEw4-h1gt"
      },
      "source": [
        "###Filtering"
      ]
    },
    {
      "cell_type": "markdown",
      "metadata": {
        "id": "AnEOc8jwh4nf"
      },
      "source": [
        "The code below allows us ensure that we only extract images related to vertebrates and our 5 selected species."
      ]
    },
    {
      "cell_type": "code",
      "execution_count": 18,
      "metadata": {
        "id": "WmBG5tUw6U1B"
      },
      "outputs": [],
      "source": [
        "# List containing the vertebrates recognised by iNaturalist Dataset\n",
        "vertebrates = [\"jawless_fishes\", \"hagfishes\", \"lampreys\", \"ray-finned_fishes\", \"amphibians\", \"birds\", \"elasmobranchs\", \"chimaeras\", \"mammals\", \"reptiles\", \"lobe-finned_fishes\"]"
      ]
    },
    {
      "cell_type": "markdown",
      "source": [],
      "metadata": {
        "id": "seEWWn8SW4U9"
      }
    },
    {
      "cell_type": "code",
      "execution_count": 19,
      "metadata": {
        "colab": {
          "base_uri": "https://localhost:8080/"
        },
        "id": "M2ymWlRG6jp8",
        "outputId": "12d864ec-d872-477c-8f8d-a145569084b1"
      },
      "outputs": [
        {
          "output_type": "stream",
          "name": "stdout",
          "text": [
            "['panthera_leo']\n"
          ]
        }
      ],
      "source": [
        "# List containing the animals that user want to see/train on\n",
        "animalsToRetrieve = [format(name).lower() for name in species_names]      # formated so that images can be recognised\n",
        "print(animalsToRetrieve)"
      ]
    },
    {
      "cell_type": "markdown",
      "metadata": {
        "id": "rMZYFONYjLe7"
      },
      "source": [
        "###Map images to their annotations"
      ]
    },
    {
      "cell_type": "code",
      "execution_count": 20,
      "metadata": {
        "id": "lCckEJDn7jru"
      },
      "outputs": [],
      "source": [
        "annotatedFiles = {}   # stores specified annotation and metadata of species\n",
        "\n",
        "for idx, image in enumerate(inatJson['images']):\n",
        "\n",
        "  category, superCategory, imageDirectory = getAnnotation(idx, image['id'])\n",
        "  if (superCategory in vertebrates) and (category in animalsToRetrieve):      # Checking if the species is a vertebrate and checking latin name of the animal (using category)\n",
        "    field = os.path.basename(image['file_name']).split('.')[0]\n",
        "\n",
        "    annotatedFiles[field] = {\n",
        "        'id': image['id'],\n",
        "        'file_id': field,\n",
        "        'label': category,      # latin name\n",
        "        'superCategory': superCategory,\n",
        "        'imagedirectory' : imageDirectory,\n",
        "    }"
      ]
    },
    {
      "cell_type": "code",
      "execution_count": 21,
      "metadata": {
        "colab": {
          "base_uri": "https://localhost:8080/"
        },
        "id": "Vf2a00PU8L36",
        "outputId": "acc169f1-c9c1-4023-de26-9906e2486a09"
      },
      "outputs": [
        {
          "output_type": "stream",
          "name": "stdout",
          "text": [
            "{'300262a5-cf42-4296-ad50-d9d305e19a80': {'id': 2687910, 'file_id': '300262a5-cf42-4296-ad50-d9d305e19a80', 'label': 'panthera_leo', 'superCategory': 'mammals', 'imagedirectory': '04682_Animalia_Chordata_Mammalia_Carnivora_Felidae_Panthera_leo'}, 'ca25da17-453a-472f-b0b1-8c46a36b2948': {'id': 2710221, 'file_id': 'ca25da17-453a-472f-b0b1-8c46a36b2948', 'label': 'panthera_leo', 'superCategory': 'mammals', 'imagedirectory': '04682_Animalia_Chordata_Mammalia_Carnivora_Felidae_Panthera_leo'}, 'ae9adbce-1809-4263-8737-020aee79e657': {'id': 2713425, 'file_id': 'ae9adbce-1809-4263-8737-020aee79e657', 'label': 'panthera_leo', 'superCategory': 'mammals', 'imagedirectory': '04682_Animalia_Chordata_Mammalia_Carnivora_Felidae_Panthera_leo'}, '83b87a73-0f1c-4bf0-9220-86d5789626d9': {'id': 2718258, 'file_id': '83b87a73-0f1c-4bf0-9220-86d5789626d9', 'label': 'panthera_leo', 'superCategory': 'mammals', 'imagedirectory': '04682_Animalia_Chordata_Mammalia_Carnivora_Felidae_Panthera_leo'}, 'bcbf1577-1003-4103-8f52-5cea72d5cd96': {'id': 2740320, 'file_id': 'bcbf1577-1003-4103-8f52-5cea72d5cd96', 'label': 'panthera_leo', 'superCategory': 'mammals', 'imagedirectory': '04682_Animalia_Chordata_Mammalia_Carnivora_Felidae_Panthera_leo'}, '25b3ef16-2528-409f-ba37-0b4e0bb92d2d': {'id': 2760875, 'file_id': '25b3ef16-2528-409f-ba37-0b4e0bb92d2d', 'label': 'panthera_leo', 'superCategory': 'mammals', 'imagedirectory': '04682_Animalia_Chordata_Mammalia_Carnivora_Felidae_Panthera_leo'}, '5dcbbcf8-e1b8-400b-b834-5c1e86885cff': {'id': 2772658, 'file_id': '5dcbbcf8-e1b8-400b-b834-5c1e86885cff', 'label': 'panthera_leo', 'superCategory': 'mammals', 'imagedirectory': '04682_Animalia_Chordata_Mammalia_Carnivora_Felidae_Panthera_leo'}, '8eb3b671-6ff9-4e0f-8367-4751570621e7': {'id': 2777958, 'file_id': '8eb3b671-6ff9-4e0f-8367-4751570621e7', 'label': 'panthera_leo', 'superCategory': 'mammals', 'imagedirectory': '04682_Animalia_Chordata_Mammalia_Carnivora_Felidae_Panthera_leo'}, 'b0f0d610-5aba-4df0-86ed-6594e43b567f': {'id': 2779849, 'file_id': 'b0f0d610-5aba-4df0-86ed-6594e43b567f', 'label': 'panthera_leo', 'superCategory': 'mammals', 'imagedirectory': '04682_Animalia_Chordata_Mammalia_Carnivora_Felidae_Panthera_leo'}, '4c0bfdd5-816c-45f4-b637-89d06f7ee157': {'id': 2781699, 'file_id': '4c0bfdd5-816c-45f4-b637-89d06f7ee157', 'label': 'panthera_leo', 'superCategory': 'mammals', 'imagedirectory': '04682_Animalia_Chordata_Mammalia_Carnivora_Felidae_Panthera_leo'}}\n",
            "10\n"
          ]
        }
      ],
      "source": [
        "print(annotatedFiles)\n",
        "print(len(annotatedFiles))"
      ]
    },
    {
      "cell_type": "markdown",
      "metadata": {
        "id": "piQJcxKL7qiV"
      },
      "source": [
        "## Extracting the images"
      ]
    },
    {
      "cell_type": "code",
      "execution_count": 22,
      "metadata": {
        "id": "7LlpZ5Eq7tHL"
      },
      "outputs": [],
      "source": [
        "# image file paths in tar.gz file\n",
        "imgToExtract = []\n",
        "\n",
        "try:\n",
        "  t = tarfile.open(imagesArchive, 'r')\n",
        "\n",
        "except IOError as e:\n",
        "  print(e)\n",
        "\n",
        "else:\n",
        "\n",
        "  for id,value in annotatedFiles.items():\n",
        "\n",
        "    # create image file path\n",
        "    imgFilePath = f\"val/{value['imagedirectory']}/{id}.jpg\"         # specfying the file path to store the extracted images\n",
        "    imgToExtract.append(imgFilePath)\n",
        "\n",
        "  t.extractall('/home', members=imgToExtract)\n"
      ]
    },
    {
      "cell_type": "markdown",
      "metadata": {
        "id": "iZOa5NdsjWfy"
      },
      "source": [
        "## Resizing and renaming"
      ]
    },
    {
      "cell_type": "code",
      "execution_count": 23,
      "metadata": {
        "id": "96y6SFqH_gNP"
      },
      "outputs": [],
      "source": [
        "from PIL import Image\n",
        "import os,sys\n",
        "\n",
        "# rename all folders to match class names of the training dataset\n",
        "path = '/home/val'\n",
        "dirs = os.listdir(path)\n",
        "\n",
        "for folder in dirs:\n",
        "  # rename species folder\n",
        "  os.rename(f\"{path}/{folder}\", f\"{path}/{'_'.join(folder.split('_')[6::])}_images\")\n",
        "\n",
        "  # get path of each image in class folder\n",
        "  new_path = f\"{path}/{'_'.join(folder.split('_')[6::])}_images\"\n",
        "  image_dir = os.listdir(new_path)\n",
        "\n",
        "  for item in image_dir:\n",
        "    item_path = f\"{new_path}/{item}\"\n",
        "\n",
        "    if os.path.isfile(item_path):\n",
        "      im = Image.open(item_path)\n",
        "      f, e = os.path.splitext(item_path)\n",
        "      imResize = im.resize((IMG_HEIGHT, IMG_WIDTH))     # resizing image so that it can be read by the model\n",
        "      imResize.save(item_path,'JPEG', quality=90)"
      ]
    },
    {
      "cell_type": "markdown",
      "metadata": {
        "id": "F6laAsVc-aim"
      },
      "source": [
        "# Building the Model"
      ]
    },
    {
      "cell_type": "markdown",
      "metadata": {
        "id": "pAs1d6u9-mNb"
      },
      "source": [
        "## Preprocessing / Creating dataset"
      ]
    },
    {
      "cell_type": "code",
      "execution_count": 24,
      "metadata": {
        "colab": {
          "base_uri": "https://localhost:8080/"
        },
        "id": "aG456C0C-qeX",
        "outputId": "271f3cfd-4755-404a-b352-621e82fac0aa"
      },
      "outputs": [
        {
          "output_type": "stream",
          "name": "stdout",
          "text": [
            "Found 1 images.\n",
            "Found 1 files belonging to 1 classes.\n",
            "['panthera_leo_images']\n",
            "(1, 180, 180, 3)\n",
            "(1,)\n",
            "Found 10 files belonging to 1 classes.\n"
          ]
        }
      ],
      "source": [
        "BATCH_SIZE = 32\n",
        "data_dir = pathlib.Path('/home/DataSet').with_suffix('')  # Directory storing the training data\n",
        "\n",
        "# Quick check on the dataset\n",
        "image_count = len(list(data_dir.glob('*/*.jpg')))\n",
        "print(f\"Found {image_count} images.\")\n",
        "\n",
        "# Creating the training dataset\n",
        "train_ds = tf.keras.utils.image_dataset_from_directory(\n",
        "    data_dir,\n",
        "    validation_split=None,\n",
        "    subset=None,\n",
        "    seed=123,\n",
        "    image_size=(IMG_HEIGHT, IMG_WIDTH),\n",
        "    batch_size=BATCH_SIZE\n",
        ")\n",
        "\n",
        "# Identifying class names\n",
        "class_names = train_ds.class_names\n",
        "print(class_names)\n",
        "\n",
        "# Print a batch shape\n",
        "for image_batch, labels_batch in train_ds:\n",
        "    print(image_batch.shape)\n",
        "    print(labels_batch.shape)\n",
        "    break\n",
        "\n",
        "# Creating the validation dataset\n",
        "val_ds = tf.keras.utils.image_dataset_from_directory(\n",
        "    '/home/val',\n",
        "    validation_split=None,\n",
        "    subset=None,\n",
        "    seed=123,\n",
        "    image_size=(IMG_HEIGHT, IMG_WIDTH),\n",
        "    batch_size=BATCH_SIZE\n",
        ")\n",
        "\n",
        "# Configuring dataset for performance\n",
        "AUTOTUNE = tf.data.AUTOTUNE\n",
        "train_ds = train_ds.cache().shuffle(1000).prefetch(buffer_size=AUTOTUNE)\n",
        "val_ds = val_ds.cache().prefetch(buffer_size=AUTOTUNE)\n",
        "\n",
        "# Number of classes\n",
        "NUM_CLASSES = len(class_names)"
      ]
    },
    {
      "cell_type": "markdown",
      "source": [
        "## Creating, compiling and training the model"
      ],
      "metadata": {
        "id": "U5rliSp58D4d"
      }
    },
    {
      "cell_type": "code",
      "source": [
        "resnet_model = ResNet50(weights='imagenet', include_top=False, input_shape=(IMG_HEIGHT, IMG_WIDTH, 3))\n",
        "\n",
        "# Freeze the pretrained weights\n",
        "resnet_model.trainable = False\n",
        "\n",
        "# Create a new model on top\n",
        "inputs = keras.Input(shape=(IMG_HEIGHT, IMG_WIDTH, 3))\n",
        "x = resnet_model(inputs, training=False)\n",
        "x = layers.GlobalAveragePooling2D()(x)\n",
        "outputs = layers.Dense(NUM_CLASSES)(x)\n",
        "model = keras.Model(inputs, outputs)\n",
        "\n",
        "\n",
        "# Compile the model\n",
        "model.compile(optimizer='adam',\n",
        "              loss=tf.keras.losses.SparseCategoricalCrossentropy(from_logits=True),\n",
        "              metrics=['accuracy'])\n",
        "\n",
        "\n",
        "# using 10 epochs of size 32 and with model.fit method\n",
        "epochs=10\n",
        "history = model.fit(\n",
        "  train_ds,\n",
        "  validation_data=val_ds,\n",
        "  epochs=epochs\n",
        ")"
      ],
      "metadata": {
        "id": "RlYhWBBq1F4Y",
        "colab": {
          "base_uri": "https://localhost:8080/"
        },
        "outputId": "6505a38d-d8cc-4b44-c8eb-1dd22d0a8b6c"
      },
      "execution_count": 25,
      "outputs": [
        {
          "output_type": "stream",
          "name": "stdout",
          "text": [
            "Downloading data from https://storage.googleapis.com/tensorflow/keras-applications/resnet/resnet50_weights_tf_dim_ordering_tf_kernels_notop.h5\n",
            "94765736/94765736 [==============================] - 1s 0us/step\n",
            "Epoch 1/10\n",
            "1/1 [==============================] - 8s 8s/step - loss: 0.0000e+00 - accuracy: 1.0000 - val_loss: 0.0000e+00 - val_accuracy: 0.5000\n",
            "Epoch 2/10\n",
            "1/1 [==============================] - 1s 1s/step - loss: 0.0000e+00 - accuracy: 1.0000 - val_loss: 0.0000e+00 - val_accuracy: 0.5000\n",
            "Epoch 3/10\n",
            "1/1 [==============================] - 1s 1s/step - loss: 0.0000e+00 - accuracy: 1.0000 - val_loss: 0.0000e+00 - val_accuracy: 0.5000\n",
            "Epoch 4/10\n",
            "1/1 [==============================] - 1s 1s/step - loss: 0.0000e+00 - accuracy: 1.0000 - val_loss: 0.0000e+00 - val_accuracy: 0.5000\n",
            "Epoch 5/10\n",
            "1/1 [==============================] - 1s 1s/step - loss: 0.0000e+00 - accuracy: 1.0000 - val_loss: 0.0000e+00 - val_accuracy: 0.5000\n",
            "Epoch 6/10\n",
            "1/1 [==============================] - 1s 1s/step - loss: 0.0000e+00 - accuracy: 1.0000 - val_loss: 0.0000e+00 - val_accuracy: 0.5000\n",
            "Epoch 7/10\n",
            "1/1 [==============================] - 1s 1s/step - loss: 0.0000e+00 - accuracy: 1.0000 - val_loss: 0.0000e+00 - val_accuracy: 0.5000\n",
            "Epoch 8/10\n",
            "1/1 [==============================] - 3s 3s/step - loss: 0.0000e+00 - accuracy: 1.0000 - val_loss: 0.0000e+00 - val_accuracy: 0.5000\n",
            "Epoch 9/10\n",
            "1/1 [==============================] - 1s 1s/step - loss: 0.0000e+00 - accuracy: 1.0000 - val_loss: 0.0000e+00 - val_accuracy: 0.5000\n",
            "Epoch 10/10\n",
            "1/1 [==============================] - 1s 1s/step - loss: 0.0000e+00 - accuracy: 1.0000 - val_loss: 0.0000e+00 - val_accuracy: 0.5000\n"
          ]
        }
      ]
    },
    {
      "cell_type": "markdown",
      "source": [
        "## Visualising model results"
      ],
      "metadata": {
        "id": "leQR27ey8Wsf"
      }
    },
    {
      "cell_type": "code",
      "source": [
        "acc = history.history['accuracy']\n",
        "val_acc = history.history['val_accuracy']\n",
        "\n",
        "loss = history.history['loss']\n",
        "val_loss = history.history['val_loss']\n",
        "\n",
        "epochs_range = range(epochs)\n",
        "\n",
        "plt.figure(figsize=(8, 8))\n",
        "plt.subplot(1, 2, 1)\n",
        "plt.plot(epochs_range, acc, label='Training Accuracy')\n",
        "plt.plot(epochs_range, val_acc, label='Validation Accuracy')\n",
        "plt.legend(loc='lower right')\n",
        "plt.title('Training and Validation Accuracy')\n",
        "\n",
        "plt.subplot(1, 2, 2)\n",
        "plt.plot(epochs_range, loss, label='Training Loss')\n",
        "plt.plot(epochs_range, val_loss, label='Validation Loss')\n",
        "plt.legend(loc='upper right')\n",
        "plt.title('Training and Validation Loss')\n",
        "plt.show()"
      ],
      "metadata": {
        "colab": {
          "base_uri": "https://localhost:8080/",
          "height": 699
        },
        "id": "9ucuQ7bN71rV",
        "outputId": "6c0b71a9-e55c-4a2b-e647-7cbd8ea06ad6"
      },
      "execution_count": 26,
      "outputs": [
        {
          "output_type": "display_data",
          "data": {
            "text/plain": [
              "<Figure size 800x800 with 2 Axes>"
            ],
            "image/png": "[encoded data removed]"
          },
          "metadata": {}
        }
      ]
    }
  ],
  "metadata": {
    "colab": {
      "provenance": [],
      "collapsed_sections": [
        "Dcev3KLr6r7E",
        "uudsdfavI-6j",
        "5Nw7lTWQpCeJ",
        "7v74cIZcosMU",
        "p7821JYxowqv",
        "F6laAsVc-aim",
        "pAs1d6u9-mNb",
        "U5rliSp58D4d",
        "leQR27ey8Wsf"
      ]
    },
    "kernelspec": {
      "display_name": "Python 3",
      "name": "python3"
    },
    "language_info": {
      "name": "python"
    },
    "widgets": {
      "application/vnd.jupyter.widget-state+json": {
        "afbc802f2a2f49729455073a57515005": {
          "model_module": "@jupyter-widgets/controls",
          "model_name": "HBoxModel",
          "model_module_version": "1.5.0",
          "state": {
            "_dom_classes": [],
            "_model_module": "@jupyter-widgets/controls",
            "_model_module_version": "1.5.0",
            "_model_name": "HBoxModel",
            "_view_count": null,
            "_view_module": "@jupyter-widgets/controls",
            "_view_module_version": "1.5.0",
            "_view_name": "HBoxView",
            "box_style": "",
            "children": [
              "IPY_MODEL_2112fc723e764e399035a228c874c88a",
              "IPY_MODEL_fd924c81f6d04a708617074d99940b0e",
              "IPY_MODEL_1499c6808ad54de795730b47257e4b11"
            ],
            "layout": "IPY_MODEL_8a47257d11384762a3c0818fb5a534a7"
          }
        },
        "2112fc723e764e399035a228c874c88a": {
          "model_module": "@jupyter-widgets/controls",
          "model_name": "HTMLModel",
          "model_module_version": "1.5.0",
          "state": {
            "_dom_classes": [],
            "_model_module": "@jupyter-widgets/controls",
            "_model_module_version": "1.5.0",
            "_model_name": "HTMLModel",
            "_view_count": null,
            "_view_module": "@jupyter-widgets/controls",
            "_view_module_version": "1.5.0",
            "_view_name": "HTMLView",
            "description": "",
            "description_tooltip": null,
            "layout": "IPY_MODEL_0b7982625f54427f8da278f0a8fea9dc",
            "placeholder": "​",
            "style": "IPY_MODEL_2ea3c29219224293a04c78934381365c",
            "value": "Dl Completed...: 100%"
          }
        },
        "fd924c81f6d04a708617074d99940b0e": {
          "model_module": "@jupyter-widgets/controls",
          "model_name": "FloatProgressModel",
          "model_module_version": "1.5.0",
          "state": {
            "_dom_classes": [],
            "_model_module": "@jupyter-widgets/controls",
            "_model_module_version": "1.5.0",
            "_model_name": "FloatProgressModel",
            "_view_count": null,
            "_view_module": "@jupyter-widgets/controls",
            "_view_module_version": "1.5.0",
            "_view_name": "ProgressView",
            "bar_style": "success",
            "description": "",
            "description_tooltip": null,
            "layout": "IPY_MODEL_f49f322eaf5a4983a0ead0c22d6a6e15",
            "max": 1,
            "min": 0,
            "orientation": "horizontal",
            "style": "IPY_MODEL_fb1c23e6650f47fd9a0fe3c6262342f3",
            "value": 1
          }
        },
        "1499c6808ad54de795730b47257e4b11": {
          "model_module": "@jupyter-widgets/controls",
          "model_name": "HTMLModel",
          "model_module_version": "1.5.0",
          "state": {
            "_dom_classes": [],
            "_model_module": "@jupyter-widgets/controls",
            "_model_module_version": "1.5.0",
            "_model_name": "HTMLModel",
            "_view_count": null,
            "_view_module": "@jupyter-widgets/controls",
            "_view_module_version": "1.5.0",
            "_view_name": "HTMLView",
            "description": "",
            "description_tooltip": null,
            "layout": "IPY_MODEL_d66236e2c5024f6f923ffcec468713c6",
            "placeholder": "​",
            "style": "IPY_MODEL_2c868d6cd8a74f50b3f23768d5ce2087",
            "value": " 2/2 [03:25&lt;00:00, 120.59s/ url]"
          }
        },
        "8a47257d11384762a3c0818fb5a534a7": {
          "model_module": "@jupyter-widgets/base",
          "model_name": "LayoutModel",
          "model_module_version": "1.2.0",
          "state": {
            "_model_module": "@jupyter-widgets/base",
            "_model_module_version": "1.2.0",
            "_model_name": "LayoutModel",
            "_view_count": null,
            "_view_module": "@jupyter-widgets/base",
            "_view_module_version": "1.2.0",
            "_view_name": "LayoutView",
            "align_content": null,
            "align_items": null,
            "align_self": null,
            "border": null,
            "bottom": null,
            "display": null,
            "flex": null,
            "flex_flow": null,
            "grid_area": null,
            "grid_auto_columns": null,
            "grid_auto_flow": null,
            "grid_auto_rows": null,
            "grid_column": null,
            "grid_gap": null,
            "grid_row": null,
            "grid_template_areas": null,
            "grid_template_columns": null,
            "grid_template_rows": null,
            "height": null,
            "justify_content": null,
            "justify_items": null,
            "left": null,
            "margin": null,
            "max_height": null,
            "max_width": null,
            "min_height": null,
            "min_width": null,
            "object_fit": null,
            "object_position": null,
            "order": null,
            "overflow": null,
            "overflow_x": null,
            "overflow_y": null,
            "padding": null,
            "right": null,
            "top": null,
            "visibility": null,
            "width": null
          }
        },
        "0b7982625f54427f8da278f0a8fea9dc": {
          "model_module": "@jupyter-widgets/base",
          "model_name": "LayoutModel",
          "model_module_version": "1.2.0",
          "state": {
            "_model_module": "@jupyter-widgets/base",
            "_model_module_version": "1.2.0",
            "_model_name": "LayoutModel",
            "_view_count": null,
            "_view_module": "@jupyter-widgets/base",
            "_view_module_version": "1.2.0",
            "_view_name": "LayoutView",
            "align_content": null,
            "align_items": null,
            "align_self": null,
            "border": null,
            "bottom": null,
            "display": null,
            "flex": null,
            "flex_flow": null,
            "grid_area": null,
            "grid_auto_columns": null,
            "grid_auto_flow": null,
            "grid_auto_rows": null,
            "grid_column": null,
            "grid_gap": null,
            "grid_row": null,
            "grid_template_areas": null,
            "grid_template_columns": null,
            "grid_template_rows": null,
            "height": null,
            "justify_content": null,
            "justify_items": null,
            "left": null,
            "margin": null,
            "max_height": null,
            "max_width": null,
            "min_height": null,
            "min_width": null,
            "object_fit": null,
            "object_position": null,
            "order": null,
            "overflow": null,
            "overflow_x": null,
            "overflow_y": null,
            "padding": null,
            "right": null,
            "top": null,
            "visibility": null,
            "width": null
          }
        },
        "2ea3c29219224293a04c78934381365c": {
          "model_module": "@jupyter-widgets/controls",
          "model_name": "DescriptionStyleModel",
          "model_module_version": "1.5.0",
          "state": {
            "_model_module": "@jupyter-widgets/controls",
            "_model_module_version": "1.5.0",
            "_model_name": "DescriptionStyleModel",
            "_view_count": null,
            "_view_module": "@jupyter-widgets/base",
            "_view_module_version": "1.2.0",
            "_view_name": "StyleView",
            "description_width": ""
          }
        },
        "f49f322eaf5a4983a0ead0c22d6a6e15": {
          "model_module": "@jupyter-widgets/base",
          "model_name": "LayoutModel",
          "model_module_version": "1.2.0",
          "state": {
            "_model_module": "@jupyter-widgets/base",
            "_model_module_version": "1.2.0",
            "_model_name": "LayoutModel",
            "_view_count": null,
            "_view_module": "@jupyter-widgets/base",
            "_view_module_version": "1.2.0",
            "_view_name": "LayoutView",
            "align_content": null,
            "align_items": null,
            "align_self": null,
            "border": null,
            "bottom": null,
            "display": null,
            "flex": null,
            "flex_flow": null,
            "grid_area": null,
            "grid_auto_columns": null,
            "grid_auto_flow": null,
            "grid_auto_rows": null,
            "grid_column": null,
            "grid_gap": null,
            "grid_row": null,
            "grid_template_areas": null,
            "grid_template_columns": null,
            "grid_template_rows": null,
            "height": null,
            "justify_content": null,
            "justify_items": null,
            "left": null,
            "margin": null,
            "max_height": null,
            "max_width": null,
            "min_height": null,
            "min_width": null,
            "object_fit": null,
            "object_position": null,
            "order": null,
            "overflow": null,
            "overflow_x": null,
            "overflow_y": null,
            "padding": null,
            "right": null,
            "top": null,
            "visibility": null,
            "width": "20px"
          }
        },
        "fb1c23e6650f47fd9a0fe3c6262342f3": {
          "model_module": "@jupyter-widgets/controls",
          "model_name": "ProgressStyleModel",
          "model_module_version": "1.5.0",
          "state": {
            "_model_module": "@jupyter-widgets/controls",
            "_model_module_version": "1.5.0",
            "_model_name": "ProgressStyleModel",
            "_view_count": null,
            "_view_module": "@jupyter-widgets/base",
            "_view_module_version": "1.2.0",
            "_view_name": "StyleView",
            "bar_color": null,
            "description_width": ""
          }
        },
        "d66236e2c5024f6f923ffcec468713c6": {
          "model_module": "@jupyter-widgets/base",
          "model_name": "LayoutModel",
          "model_module_version": "1.2.0",
          "state": {
            "_model_module": "@jupyter-widgets/base",
            "_model_module_version": "1.2.0",
            "_model_name": "LayoutModel",
            "_view_count": null,
            "_view_module": "@jupyter-widgets/base",
            "_view_module_version": "1.2.0",
            "_view_name": "LayoutView",
            "align_content": null,
            "align_items": null,
            "align_self": null,
            "border": null,
            "bottom": null,
            "display": null,
            "flex": null,
            "flex_flow": null,
            "grid_area": null,
            "grid_auto_columns": null,
            "grid_auto_flow": null,
            "grid_auto_rows": null,
            "grid_column": null,
            "grid_gap": null,
            "grid_row": null,
            "grid_template_areas": null,
            "grid_template_columns": null,
            "grid_template_rows": null,
            "height": null,
            "justify_content": null,
            "justify_items": null,
            "left": null,
            "margin": null,
            "max_height": null,
            "max_width": null,
            "min_height": null,
            "min_width": null,
            "object_fit": null,
            "object_position": null,
            "order": null,
            "overflow": null,
            "overflow_x": null,
            "overflow_y": null,
            "padding": null,
            "right": null,
            "top": null,
            "visibility": null,
            "width": null
          }
        },
        "2c868d6cd8a74f50b3f23768d5ce2087": {
          "model_module": "@jupyter-widgets/controls",
          "model_name": "DescriptionStyleModel",
          "model_module_version": "1.5.0",
          "state": {
            "_model_module": "@jupyter-widgets/controls",
            "_model_module_version": "1.5.0",
            "_model_name": "DescriptionStyleModel",
            "_view_count": null,
            "_view_module": "@jupyter-widgets/base",
            "_view_module_version": "1.2.0",
            "_view_name": "StyleView",
            "description_width": ""
          }
        },
        "ed5e3c437df04292a0b5fb9b08a71991": {
          "model_module": "@jupyter-widgets/controls",
          "model_name": "HBoxModel",
          "model_module_version": "1.5.0",
          "state": {
            "_dom_classes": [],
            "_model_module": "@jupyter-widgets/controls",
            "_model_module_version": "1.5.0",
            "_model_name": "HBoxModel",
            "_view_count": null,
            "_view_module": "@jupyter-widgets/controls",
            "_view_module_version": "1.5.0",
            "_view_name": "HBoxView",
            "box_style": "",
            "children": [
              "IPY_MODEL_7a6f23e3a8a245fbb3731aa9c199dc65",
              "IPY_MODEL_beaa576139154f79aecb3d6eeb3d8e3f",
              "IPY_MODEL_f14f007a79ab4965b78b4c2e5ef6f6c3"
            ],
            "layout": "IPY_MODEL_345aa3edceff427c8d199134b60d11e2"
          }
        },
        "7a6f23e3a8a245fbb3731aa9c199dc65": {
          "model_module": "@jupyter-widgets/controls",
          "model_name": "HTMLModel",
          "model_module_version": "1.5.0",
          "state": {
            "_dom_classes": [],
            "_model_module": "@jupyter-widgets/controls",
            "_model_module_version": "1.5.0",
            "_model_name": "HTMLModel",
            "_view_count": null,
            "_view_module": "@jupyter-widgets/controls",
            "_view_module_version": "1.5.0",
            "_view_name": "HTMLView",
            "description": "",
            "description_tooltip": null,
            "layout": "IPY_MODEL_032ad5a62a7747988815b839c27a79aa",
            "placeholder": "​",
            "style": "IPY_MODEL_92e5a235270b4aa289b04c2b4df45848",
            "value": "Dl Size...: 100%"
          }
        },
        "beaa576139154f79aecb3d6eeb3d8e3f": {
          "model_module": "@jupyter-widgets/controls",
          "model_name": "FloatProgressModel",
          "model_module_version": "1.5.0",
          "state": {
            "_dom_classes": [],
            "_model_module": "@jupyter-widgets/controls",
            "_model_module_version": "1.5.0",
            "_model_name": "FloatProgressModel",
            "_view_count": null,
            "_view_module": "@jupyter-widgets/controls",
            "_view_module_version": "1.5.0",
            "_view_name": "ProgressView",
            "bar_style": "success",
            "description": "",
            "description_tooltip": null,
            "layout": "IPY_MODEL_613f2c0a9c1647bfb2f12947c656535f",
            "max": 1,
            "min": 0,
            "orientation": "horizontal",
            "style": "IPY_MODEL_889464201aa7464e83bb130235656cbd",
            "value": 1
          }
        },
        "f14f007a79ab4965b78b4c2e5ef6f6c3": {
          "model_module": "@jupyter-widgets/controls",
          "model_name": "HTMLModel",
          "model_module_version": "1.5.0",
          "state": {
            "_dom_classes": [],
            "_model_module": "@jupyter-widgets/controls",
            "_model_module_version": "1.5.0",
            "_model_name": "HTMLModel",
            "_view_count": null,
            "_view_module": "@jupyter-widgets/controls",
            "_view_module_version": "1.5.0",
            "_view_name": "HTMLView",
            "description": "",
            "description_tooltip": null,
            "layout": "IPY_MODEL_2d56fa0eeb3746c6b11780fbf19e0cf5",
            "placeholder": "​",
            "style": "IPY_MODEL_2a688b1a9ccd4b39ad84c0425c95e678",
            "value": " 8526/8526 [03:25&lt;00:00, 52.37 MiB/s]"
          }
        },
        "345aa3edceff427c8d199134b60d11e2": {
          "model_module": "@jupyter-widgets/base",
          "model_name": "LayoutModel",
          "model_module_version": "1.2.0",
          "state": {
            "_model_module": "@jupyter-widgets/base",
            "_model_module_version": "1.2.0",
            "_model_name": "LayoutModel",
            "_view_count": null,
            "_view_module": "@jupyter-widgets/base",
            "_view_module_version": "1.2.0",
            "_view_name": "LayoutView",
            "align_content": null,
            "align_items": null,
            "align_self": null,
            "border": null,
            "bottom": null,
            "display": null,
            "flex": null,
            "flex_flow": null,
            "grid_area": null,
            "grid_auto_columns": null,
            "grid_auto_flow": null,
            "grid_auto_rows": null,
            "grid_column": null,
            "grid_gap": null,
            "grid_row": null,
            "grid_template_areas": null,
            "grid_template_columns": null,
            "grid_template_rows": null,
            "height": null,
            "justify_content": null,
            "justify_items": null,
            "left": null,
            "margin": null,
            "max_height": null,
            "max_width": null,
            "min_height": null,
            "min_width": null,
            "object_fit": null,
            "object_position": null,
            "order": null,
            "overflow": null,
            "overflow_x": null,
            "overflow_y": null,
            "padding": null,
            "right": null,
            "top": null,
            "visibility": null,
            "width": null
          }
        },
        "032ad5a62a7747988815b839c27a79aa": {
          "model_module": "@jupyter-widgets/base",
          "model_name": "LayoutModel",
          "model_module_version": "1.2.0",
          "state": {
            "_model_module": "@jupyter-widgets/base",
            "_model_module_version": "1.2.0",
            "_model_name": "LayoutModel",
            "_view_count": null,
            "_view_module": "@jupyter-widgets/base",
            "_view_module_version": "1.2.0",
            "_view_name": "LayoutView",
            "align_content": null,
            "align_items": null,
            "align_self": null,
            "border": null,
            "bottom": null,
            "display": null,
            "flex": null,
            "flex_flow": null,
            "grid_area": null,
            "grid_auto_columns": null,
            "grid_auto_flow": null,
            "grid_auto_rows": null,
            "grid_column": null,
            "grid_gap": null,
            "grid_row": null,
            "grid_template_areas": null,
            "grid_template_columns": null,
            "grid_template_rows": null,
            "height": null,
            "justify_content": null,
            "justify_items": null,
            "left": null,
            "margin": null,
            "max_height": null,
            "max_width": null,
            "min_height": null,
            "min_width": null,
            "object_fit": null,
            "object_position": null,
            "order": null,
            "overflow": null,
            "overflow_x": null,
            "overflow_y": null,
            "padding": null,
            "right": null,
            "top": null,
            "visibility": null,
            "width": null
          }
        },
        "92e5a235270b4aa289b04c2b4df45848": {
          "model_module": "@jupyter-widgets/controls",
          "model_name": "DescriptionStyleModel",
          "model_module_version": "1.5.0",
          "state": {
            "_model_module": "@jupyter-widgets/controls",
            "_model_module_version": "1.5.0",
            "_model_name": "DescriptionStyleModel",
            "_view_count": null,
            "_view_module": "@jupyter-widgets/base",
            "_view_module_version": "1.2.0",
            "_view_name": "StyleView",
            "description_width": ""
          }
        },
        "613f2c0a9c1647bfb2f12947c656535f": {
          "model_module": "@jupyter-widgets/base",
          "model_name": "LayoutModel",
          "model_module_version": "1.2.0",
          "state": {
            "_model_module": "@jupyter-widgets/base",
            "_model_module_version": "1.2.0",
            "_model_name": "LayoutModel",
            "_view_count": null,
            "_view_module": "@jupyter-widgets/base",
            "_view_module_version": "1.2.0",
            "_view_name": "LayoutView",
            "align_content": null,
            "align_items": null,
            "align_self": null,
            "border": null,
            "bottom": null,
            "display": null,
            "flex": null,
            "flex_flow": null,
            "grid_area": null,
            "grid_auto_columns": null,
            "grid_auto_flow": null,
            "grid_auto_rows": null,
            "grid_column": null,
            "grid_gap": null,
            "grid_row": null,
            "grid_template_areas": null,
            "grid_template_columns": null,
            "grid_template_rows": null,
            "height": null,
            "justify_content": null,
            "justify_items": null,
            "left": null,
            "margin": null,
            "max_height": null,
            "max_width": null,
            "min_height": null,
            "min_width": null,
            "object_fit": null,
            "object_position": null,
            "order": null,
            "overflow": null,
            "overflow_x": null,
            "overflow_y": null,
            "padding": null,
            "right": null,
            "top": null,
            "visibility": null,
            "width": "20px"
          }
        },
        "889464201aa7464e83bb130235656cbd": {
          "model_module": "@jupyter-widgets/controls",
          "model_name": "ProgressStyleModel",
          "model_module_version": "1.5.0",
          "state": {
            "_model_module": "@jupyter-widgets/controls",
            "_model_module_version": "1.5.0",
            "_model_name": "ProgressStyleModel",
            "_view_count": null,
            "_view_module": "@jupyter-widgets/base",
            "_view_module_version": "1.2.0",
            "_view_name": "StyleView",
            "bar_color": null,
            "description_width": ""
          }
        },
        "2d56fa0eeb3746c6b11780fbf19e0cf5": {
          "model_module": "@jupyter-widgets/base",
          "model_name": "LayoutModel",
          "model_module_version": "1.2.0",
          "state": {
            "_model_module": "@jupyter-widgets/base",
            "_model_module_version": "1.2.0",
            "_model_name": "LayoutModel",
            "_view_count": null,
            "_view_module": "@jupyter-widgets/base",
            "_view_module_version": "1.2.0",
            "_view_name": "LayoutView",
            "align_content": null,
            "align_items": null,
            "align_self": null,
            "border": null,
            "bottom": null,
            "display": null,
            "flex": null,
            "flex_flow": null,
            "grid_area": null,
            "grid_auto_columns": null,
            "grid_auto_flow": null,
            "grid_auto_rows": null,
            "grid_column": null,
            "grid_gap": null,
            "grid_row": null,
            "grid_template_areas": null,
            "grid_template_columns": null,
            "grid_template_rows": null,
            "height": null,
            "justify_content": null,
            "justify_items": null,
            "left": null,
            "margin": null,
            "max_height": null,
            "max_width": null,
            "min_height": null,
            "min_width": null,
            "object_fit": null,
            "object_position": null,
            "order": null,
            "overflow": null,
            "overflow_x": null,
            "overflow_y": null,
            "padding": null,
            "right": null,
            "top": null,
            "visibility": null,
            "width": null
          }
        },
        "2a688b1a9ccd4b39ad84c0425c95e678": {
          "model_module": "@jupyter-widgets/controls",
          "model_name": "DescriptionStyleModel",
          "model_module_version": "1.5.0",
          "state": {
            "_model_module": "@jupyter-widgets/controls",
            "_model_module_version": "1.5.0",
            "_model_name": "DescriptionStyleModel",
            "_view_count": null,
            "_view_module": "@jupyter-widgets/base",
            "_view_module_version": "1.2.0",
            "_view_name": "StyleView",
            "description_width": ""
          }
        },
        "4a969cbc84e446b897805af3b00d89a7": {
          "model_module": "@jupyter-widgets/controls",
          "model_name": "HBoxModel",
          "model_module_version": "1.5.0",
          "state": {
            "_dom_classes": [],
            "_model_module": "@jupyter-widgets/controls",
            "_model_module_version": "1.5.0",
            "_model_name": "HBoxModel",
            "_view_count": null,
            "_view_module": "@jupyter-widgets/controls",
            "_view_module_version": "1.5.0",
            "_view_name": "HBoxView",
            "box_style": "",
            "children": [
              "IPY_MODEL_df32f0cb097741ad91ad8473e246ca17",
              "IPY_MODEL_7e8827c0e88f45e89522fc7ae6f6c502",
              "IPY_MODEL_d8c105edb4b84937ba54d61bc6cb4ca0"
            ],
            "layout": "IPY_MODEL_21095967c97c46829bbc9c5a5ce48a56"
          }
        },
        "df32f0cb097741ad91ad8473e246ca17": {
          "model_module": "@jupyter-widgets/controls",
          "model_name": "HTMLModel",
          "model_module_version": "1.5.0",
          "state": {
            "_dom_classes": [],
            "_model_module": "@jupyter-widgets/controls",
            "_model_module_version": "1.5.0",
            "_model_name": "HTMLModel",
            "_view_count": null,
            "_view_module": "@jupyter-widgets/controls",
            "_view_module_version": "1.5.0",
            "_view_name": "HTMLView",
            "description": "",
            "description_tooltip": null,
            "layout": "IPY_MODEL_d09263d1b2ec4a40a1e3e07b549ea25f",
            "placeholder": "​",
            "style": "IPY_MODEL_825331b0432f4468a3a3cab6e4f06602",
            "value": "Extraction completed...: 100%"
          }
        },
        "7e8827c0e88f45e89522fc7ae6f6c502": {
          "model_module": "@jupyter-widgets/controls",
          "model_name": "FloatProgressModel",
          "model_module_version": "1.5.0",
          "state": {
            "_dom_classes": [],
            "_model_module": "@jupyter-widgets/controls",
            "_model_module_version": "1.5.0",
            "_model_name": "FloatProgressModel",
            "_view_count": null,
            "_view_module": "@jupyter-widgets/controls",
            "_view_module_version": "1.5.0",
            "_view_name": "ProgressView",
            "bar_style": "success",
            "description": "",
            "description_tooltip": null,
            "layout": "IPY_MODEL_eb58292a8d984b5599364a3939aa30be",
            "max": 1,
            "min": 0,
            "orientation": "horizontal",
            "style": "IPY_MODEL_225f9c4d20234da98d8ad544f79c4992",
            "value": 1
          }
        },
        "d8c105edb4b84937ba54d61bc6cb4ca0": {
          "model_module": "@jupyter-widgets/controls",
          "model_name": "HTMLModel",
          "model_module_version": "1.5.0",
          "state": {
            "_dom_classes": [],
            "_model_module": "@jupyter-widgets/controls",
            "_model_module_version": "1.5.0",
            "_model_name": "HTMLModel",
            "_view_count": null,
            "_view_module": "@jupyter-widgets/controls",
            "_view_module_version": "1.5.0",
            "_view_name": "HTMLView",
            "description": "",
            "description_tooltip": null,
            "layout": "IPY_MODEL_e6e88f8a6cb54e6ca6dcef0765a04139",
            "placeholder": "​",
            "style": "IPY_MODEL_801e20e2fd0d401ebba761bc72fa9466",
            "value": " 1/1 [03:25&lt;00:00,  2.11s/ file]"
          }
        },
        "21095967c97c46829bbc9c5a5ce48a56": {
          "model_module": "@jupyter-widgets/base",
          "model_name": "LayoutModel",
          "model_module_version": "1.2.0",
          "state": {
            "_model_module": "@jupyter-widgets/base",
            "_model_module_version": "1.2.0",
            "_model_name": "LayoutModel",
            "_view_count": null,
            "_view_module": "@jupyter-widgets/base",
            "_view_module_version": "1.2.0",
            "_view_name": "LayoutView",
            "align_content": null,
            "align_items": null,
            "align_self": null,
            "border": null,
            "bottom": null,
            "display": null,
            "flex": null,
            "flex_flow": null,
            "grid_area": null,
            "grid_auto_columns": null,
            "grid_auto_flow": null,
            "grid_auto_rows": null,
            "grid_column": null,
            "grid_gap": null,
            "grid_row": null,
            "grid_template_areas": null,
            "grid_template_columns": null,
            "grid_template_rows": null,
            "height": null,
            "justify_content": null,
            "justify_items": null,
            "left": null,
            "margin": null,
            "max_height": null,
            "max_width": null,
            "min_height": null,
            "min_width": null,
            "object_fit": null,
            "object_position": null,
            "order": null,
            "overflow": null,
            "overflow_x": null,
            "overflow_y": null,
            "padding": null,
            "right": null,
            "top": null,
            "visibility": null,
            "width": null
          }
        },
        "d09263d1b2ec4a40a1e3e07b549ea25f": {
          "model_module": "@jupyter-widgets/base",
          "model_name": "LayoutModel",
          "model_module_version": "1.2.0",
          "state": {
            "_model_module": "@jupyter-widgets/base",
            "_model_module_version": "1.2.0",
            "_model_name": "LayoutModel",
            "_view_count": null,
            "_view_module": "@jupyter-widgets/base",
            "_view_module_version": "1.2.0",
            "_view_name": "LayoutView",
            "align_content": null,
            "align_items": null,
            "align_self": null,
            "border": null,
            "bottom": null,
            "display": null,
            "flex": null,
            "flex_flow": null,
            "grid_area": null,
            "grid_auto_columns": null,
            "grid_auto_flow": null,
            "grid_auto_rows": null,
            "grid_column": null,
            "grid_gap": null,
            "grid_row": null,
            "grid_template_areas": null,
            "grid_template_columns": null,
            "grid_template_rows": null,
            "height": null,
            "justify_content": null,
            "justify_items": null,
            "left": null,
            "margin": null,
            "max_height": null,
            "max_width": null,
            "min_height": null,
            "min_width": null,
            "object_fit": null,
            "object_position": null,
            "order": null,
            "overflow": null,
            "overflow_x": null,
            "overflow_y": null,
            "padding": null,
            "right": null,
            "top": null,
            "visibility": null,
            "width": null
          }
        },
        "825331b0432f4468a3a3cab6e4f06602": {
          "model_module": "@jupyter-widgets/controls",
          "model_name": "DescriptionStyleModel",
          "model_module_version": "1.5.0",
          "state": {
            "_model_module": "@jupyter-widgets/controls",
            "_model_module_version": "1.5.0",
            "_model_name": "DescriptionStyleModel",
            "_view_count": null,
            "_view_module": "@jupyter-widgets/base",
            "_view_module_version": "1.2.0",
            "_view_name": "StyleView",
            "description_width": ""
          }
        },
        "eb58292a8d984b5599364a3939aa30be": {
          "model_module": "@jupyter-widgets/base",
          "model_name": "LayoutModel",
          "model_module_version": "1.2.0",
          "state": {
            "_model_module": "@jupyter-widgets/base",
            "_model_module_version": "1.2.0",
            "_model_name": "LayoutModel",
            "_view_count": null,
            "_view_module": "@jupyter-widgets/base",
            "_view_module_version": "1.2.0",
            "_view_name": "LayoutView",
            "align_content": null,
            "align_items": null,
            "align_self": null,
            "border": null,
            "bottom": null,
            "display": null,
            "flex": null,
            "flex_flow": null,
            "grid_area": null,
            "grid_auto_columns": null,
            "grid_auto_flow": null,
            "grid_auto_rows": null,
            "grid_column": null,
            "grid_gap": null,
            "grid_row": null,
            "grid_template_areas": null,
            "grid_template_columns": null,
            "grid_template_rows": null,
            "height": null,
            "justify_content": null,
            "justify_items": null,
            "left": null,
            "margin": null,
            "max_height": null,
            "max_width": null,
            "min_height": null,
            "min_width": null,
            "object_fit": null,
            "object_position": null,
            "order": null,
            "overflow": null,
            "overflow_x": null,
            "overflow_y": null,
            "padding": null,
            "right": null,
            "top": null,
            "visibility": null,
            "width": "20px"
          }
        },
        "225f9c4d20234da98d8ad544f79c4992": {
          "model_module": "@jupyter-widgets/controls",
          "model_name": "ProgressStyleModel",
          "model_module_version": "1.5.0",
          "state": {
            "_model_module": "@jupyter-widgets/controls",
            "_model_module_version": "1.5.0",
            "_model_name": "ProgressStyleModel",
            "_view_count": null,
            "_view_module": "@jupyter-widgets/base",
            "_view_module_version": "1.2.0",
            "_view_name": "StyleView",
            "bar_color": null,
            "description_width": ""
          }
        },
        "e6e88f8a6cb54e6ca6dcef0765a04139": {
          "model_module": "@jupyter-widgets/base",
          "model_name": "LayoutModel",
          "model_module_version": "1.2.0",
          "state": {
            "_model_module": "@jupyter-widgets/base",
            "_model_module_version": "1.2.0",
            "_model_name": "LayoutModel",
            "_view_count": null,
            "_view_module": "@jupyter-widgets/base",
            "_view_module_version": "1.2.0",
            "_view_name": "LayoutView",
            "align_content": null,
            "align_items": null,
            "align_self": null,
            "border": null,
            "bottom": null,
            "display": null,
            "flex": null,
            "flex_flow": null,
            "grid_area": null,
            "grid_auto_columns": null,
            "grid_auto_flow": null,
            "grid_auto_rows": null,
            "grid_column": null,
            "grid_gap": null,
            "grid_row": null,
            "grid_template_areas": null,
            "grid_template_columns": null,
            "grid_template_rows": null,
            "height": null,
            "justify_content": null,
            "justify_items": null,
            "left": null,
            "margin": null,
            "max_height": null,
            "max_width": null,
            "min_height": null,
            "min_width": null,
            "object_fit": null,
            "object_position": null,
            "order": null,
            "overflow": null,
            "overflow_x": null,
            "overflow_y": null,
            "padding": null,
            "right": null,
            "top": null,
            "visibility": null,
            "width": null
          }
        },
        "801e20e2fd0d401ebba761bc72fa9466": {
          "model_module": "@jupyter-widgets/controls",
          "model_name": "DescriptionStyleModel",
          "model_module_version": "1.5.0",
          "state": {
            "_model_module": "@jupyter-widgets/controls",
            "_model_module_version": "1.5.0",
            "_model_name": "DescriptionStyleModel",
            "_view_count": null,
            "_view_module": "@jupyter-widgets/base",
            "_view_module_version": "1.2.0",
            "_view_name": "StyleView",
            "description_width": ""
          }
        }
      }
    }
  },
  "nbformat": 4,
  "nbformat_minor": 0
}