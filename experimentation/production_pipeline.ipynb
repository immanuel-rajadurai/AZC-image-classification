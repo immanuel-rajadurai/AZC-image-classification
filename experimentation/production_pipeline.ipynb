{
  "nbformat": 4,
  "nbformat_minor": 0,
  "metadata": {
    "colab": {
      "provenance": []
    },
    "kernelspec": {
      "name": "python3",
      "display_name": "Python 3"
    },
    "language_info": {
      "name": "python"
    },
    "widgets": {
      "application/vnd.jupyter.widget-state+json": {
        "0e303c7c0d8a415f80eb438626d08716": {
          "model_module": "@jupyter-widgets/controls",
          "model_name": "HBoxModel",
          "model_module_version": "1.5.0",
          "state": {
            "_dom_classes": [],
            "_model_module": "@jupyter-widgets/controls",
            "_model_module_version": "1.5.0",
            "_model_name": "HBoxModel",
            "_view_count": null,
            "_view_module": "@jupyter-widgets/controls",
            "_view_module_version": "1.5.0",
            "_view_name": "HBoxView",
            "box_style": "",
            "children": [
              "IPY_MODEL_4fa800d67def48a088eeb7aac2ad288b",
              "IPY_MODEL_e2131799b38d4d3da5a41124a676f701",
              "IPY_MODEL_8e6db83e086941a4bb91d2c53ee572b9"
            ],
            "layout": "IPY_MODEL_06a369616a4745ce919176594d8bd478"
          }
        },
        "4fa800d67def48a088eeb7aac2ad288b": {
          "model_module": "@jupyter-widgets/controls",
          "model_name": "HTMLModel",
          "model_module_version": "1.5.0",
          "state": {
            "_dom_classes": [],
            "_model_module": "@jupyter-widgets/controls",
            "_model_module_version": "1.5.0",
            "_model_name": "HTMLModel",
            "_view_count": null,
            "_view_module": "@jupyter-widgets/controls",
            "_view_module_version": "1.5.0",
            "_view_name": "HTMLView",
            "description": "",
            "description_tooltip": null,
            "layout": "IPY_MODEL_50e4b735508a4e99a3703ccb0c87b8f6",
            "placeholder": "​",
            "style": "IPY_MODEL_3d7d0e28c11a45d9952350c6cd4cab84",
            "value": "Dl Completed...: 100%"
          }
        },
        "e2131799b38d4d3da5a41124a676f701": {
          "model_module": "@jupyter-widgets/controls",
          "model_name": "FloatProgressModel",
          "model_module_version": "1.5.0",
          "state": {
            "_dom_classes": [],
            "_model_module": "@jupyter-widgets/controls",
            "_model_module_version": "1.5.0",
            "_model_name": "FloatProgressModel",
            "_view_count": null,
            "_view_module": "@jupyter-widgets/controls",
            "_view_module_version": "1.5.0",
            "_view_name": "ProgressView",
            "bar_style": "success",
            "description": "",
            "description_tooltip": null,
            "layout": "IPY_MODEL_87a7a499e4164dcbb8d051f98efde6b8",
            "max": 1,
            "min": 0,
            "orientation": "horizontal",
            "style": "IPY_MODEL_0a1ac4a883d0421dac5dd13a4e404b4e",
            "value": 1
          }
        },
        "8e6db83e086941a4bb91d2c53ee572b9": {
          "model_module": "@jupyter-widgets/controls",
          "model_name": "HTMLModel",
          "model_module_version": "1.5.0",
          "state": {
            "_dom_classes": [],
            "_model_module": "@jupyter-widgets/controls",
            "_model_module_version": "1.5.0",
            "_model_name": "HTMLModel",
            "_view_count": null,
            "_view_module": "@jupyter-widgets/controls",
            "_view_module_version": "1.5.0",
            "_view_name": "HTMLView",
            "description": "",
            "description_tooltip": null,
            "layout": "IPY_MODEL_4a52931b6c0e444bae86ef32d7a31573",
            "placeholder": "​",
            "style": "IPY_MODEL_31d80dc0dbf041e0a679fb07bdd5b434",
            "value": " 2/2 [00:11&lt;00:00, 11.54s/ url]"
          }
        },
        "06a369616a4745ce919176594d8bd478": {
          "model_module": "@jupyter-widgets/base",
          "model_name": "LayoutModel",
          "model_module_version": "1.2.0",
          "state": {
            "_model_module": "@jupyter-widgets/base",
            "_model_module_version": "1.2.0",
            "_model_name": "LayoutModel",
            "_view_count": null,
            "_view_module": "@jupyter-widgets/base",
            "_view_module_version": "1.2.0",
            "_view_name": "LayoutView",
            "align_content": null,
            "align_items": null,
            "align_self": null,
            "border": null,
            "bottom": null,
            "display": null,
            "flex": null,
            "flex_flow": null,
            "grid_area": null,
            "grid_auto_columns": null,
            "grid_auto_flow": null,
            "grid_auto_rows": null,
            "grid_column": null,
            "grid_gap": null,
            "grid_row": null,
            "grid_template_areas": null,
            "grid_template_columns": null,
            "grid_template_rows": null,
            "height": null,
            "justify_content": null,
            "justify_items": null,
            "left": null,
            "margin": null,
            "max_height": null,
            "max_width": null,
            "min_height": null,
            "min_width": null,
            "object_fit": null,
            "object_position": null,
            "order": null,
            "overflow": null,
            "overflow_x": null,
            "overflow_y": null,
            "padding": null,
            "right": null,
            "top": null,
            "visibility": null,
            "width": null
          }
        },
        "50e4b735508a4e99a3703ccb0c87b8f6": {
          "model_module": "@jupyter-widgets/base",
          "model_name": "LayoutModel",
          "model_module_version": "1.2.0",
          "state": {
            "_model_module": "@jupyter-widgets/base",
            "_model_module_version": "1.2.0",
            "_model_name": "LayoutModel",
            "_view_count": null,
            "_view_module": "@jupyter-widgets/base",
            "_view_module_version": "1.2.0",
            "_view_name": "LayoutView",
            "align_content": null,
            "align_items": null,
            "align_self": null,
            "border": null,
            "bottom": null,
            "display": null,
            "flex": null,
            "flex_flow": null,
            "grid_area": null,
            "grid_auto_columns": null,
            "grid_auto_flow": null,
            "grid_auto_rows": null,
            "grid_column": null,
            "grid_gap": null,
            "grid_row": null,
            "grid_template_areas": null,
            "grid_template_columns": null,
            "grid_template_rows": null,
            "height": null,
            "justify_content": null,
            "justify_items": null,
            "left": null,
            "margin": null,
            "max_height": null,
            "max_width": null,
            "min_height": null,
            "min_width": null,
            "object_fit": null,
            "object_position": null,
            "order": null,
            "overflow": null,
            "overflow_x": null,
            "overflow_y": null,
            "padding": null,
            "right": null,
            "top": null,
            "visibility": null,
            "width": null
          }
        },
        "3d7d0e28c11a45d9952350c6cd4cab84": {
          "model_module": "@jupyter-widgets/controls",
          "model_name": "DescriptionStyleModel",
          "model_module_version": "1.5.0",
          "state": {
            "_model_module": "@jupyter-widgets/controls",
            "_model_module_version": "1.5.0",
            "_model_name": "DescriptionStyleModel",
            "_view_count": null,
            "_view_module": "@jupyter-widgets/base",
            "_view_module_version": "1.2.0",
            "_view_name": "StyleView",
            "description_width": ""
          }
        },
        "87a7a499e4164dcbb8d051f98efde6b8": {
          "model_module": "@jupyter-widgets/base",
          "model_name": "LayoutModel",
          "model_module_version": "1.2.0",
          "state": {
            "_model_module": "@jupyter-widgets/base",
            "_model_module_version": "1.2.0",
            "_model_name": "LayoutModel",
            "_view_count": null,
            "_view_module": "@jupyter-widgets/base",
            "_view_module_version": "1.2.0",
            "_view_name": "LayoutView",
            "align_content": null,
            "align_items": null,
            "align_self": null,
            "border": null,
            "bottom": null,
            "display": null,
            "flex": null,
            "flex_flow": null,
            "grid_area": null,
            "grid_auto_columns": null,
            "grid_auto_flow": null,
            "grid_auto_rows": null,
            "grid_column": null,
            "grid_gap": null,
            "grid_row": null,
            "grid_template_areas": null,
            "grid_template_columns": null,
            "grid_template_rows": null,
            "height": null,
            "justify_content": null,
            "justify_items": null,
            "left": null,
            "margin": null,
            "max_height": null,
            "max_width": null,
            "min_height": null,
            "min_width": null,
            "object_fit": null,
            "object_position": null,
            "order": null,
            "overflow": null,
            "overflow_x": null,
            "overflow_y": null,
            "padding": null,
            "right": null,
            "top": null,
            "visibility": null,
            "width": "20px"
          }
        },
        "0a1ac4a883d0421dac5dd13a4e404b4e": {
          "model_module": "@jupyter-widgets/controls",
          "model_name": "ProgressStyleModel",
          "model_module_version": "1.5.0",
          "state": {
            "_model_module": "@jupyter-widgets/controls",
            "_model_module_version": "1.5.0",
            "_model_name": "ProgressStyleModel",
            "_view_count": null,
            "_view_module": "@jupyter-widgets/base",
            "_view_module_version": "1.2.0",
            "_view_name": "StyleView",
            "bar_color": null,
            "description_width": ""
          }
        },
        "4a52931b6c0e444bae86ef32d7a31573": {
          "model_module": "@jupyter-widgets/base",
          "model_name": "LayoutModel",
          "model_module_version": "1.2.0",
          "state": {
            "_model_module": "@jupyter-widgets/base",
            "_model_module_version": "1.2.0",
            "_model_name": "LayoutModel",
            "_view_count": null,
            "_view_module": "@jupyter-widgets/base",
            "_view_module_version": "1.2.0",
            "_view_name": "LayoutView",
            "align_content": null,
            "align_items": null,
            "align_self": null,
            "border": null,
            "bottom": null,
            "display": null,
            "flex": null,
            "flex_flow": null,
            "grid_area": null,
            "grid_auto_columns": null,
            "grid_auto_flow": null,
            "grid_auto_rows": null,
            "grid_column": null,
            "grid_gap": null,
            "grid_row": null,
            "grid_template_areas": null,
            "grid_template_columns": null,
            "grid_template_rows": null,
            "height": null,
            "justify_content": null,
            "justify_items": null,
            "left": null,
            "margin": null,
            "max_height": null,
            "max_width": null,
            "min_height": null,
            "min_width": null,
            "object_fit": null,
            "object_position": null,
            "order": null,
            "overflow": null,
            "overflow_x": null,
            "overflow_y": null,
            "padding": null,
            "right": null,
            "top": null,
            "visibility": null,
            "width": null
          }
        },
        "31d80dc0dbf041e0a679fb07bdd5b434": {
          "model_module": "@jupyter-widgets/controls",
          "model_name": "DescriptionStyleModel",
          "model_module_version": "1.5.0",
          "state": {
            "_model_module": "@jupyter-widgets/controls",
            "_model_module_version": "1.5.0",
            "_model_name": "DescriptionStyleModel",
            "_view_count": null,
            "_view_module": "@jupyter-widgets/base",
            "_view_module_version": "1.2.0",
            "_view_name": "StyleView",
            "description_width": ""
          }
        },
        "b3ab4230560d4b558473d557e0d2f989": {
          "model_module": "@jupyter-widgets/controls",
          "model_name": "HBoxModel",
          "model_module_version": "1.5.0",
          "state": {
            "_dom_classes": [],
            "_model_module": "@jupyter-widgets/controls",
            "_model_module_version": "1.5.0",
            "_model_name": "HBoxModel",
            "_view_count": null,
            "_view_module": "@jupyter-widgets/controls",
            "_view_module_version": "1.5.0",
            "_view_name": "HBoxView",
            "box_style": "",
            "children": [
              "IPY_MODEL_5a63a78a5bf54d9a8197a53bea9c0e1f",
              "IPY_MODEL_9d499c1776e04e92a84c31000c7f1f62",
              "IPY_MODEL_aeb8078123d847099944d938171ab48b"
            ],
            "layout": "IPY_MODEL_f41d67ea762c4e168c76d6b485d4d9a6"
          }
        },
        "5a63a78a5bf54d9a8197a53bea9c0e1f": {
          "model_module": "@jupyter-widgets/controls",
          "model_name": "HTMLModel",
          "model_module_version": "1.5.0",
          "state": {
            "_dom_classes": [],
            "_model_module": "@jupyter-widgets/controls",
            "_model_module_version": "1.5.0",
            "_model_name": "HTMLModel",
            "_view_count": null,
            "_view_module": "@jupyter-widgets/controls",
            "_view_module_version": "1.5.0",
            "_view_name": "HTMLView",
            "description": "",
            "description_tooltip": null,
            "layout": "IPY_MODEL_ec0907ad9c3a4162bc43813346f03e10",
            "placeholder": "​",
            "style": "IPY_MODEL_154c052f91314d3b8c331afa7d3a742b",
            "value": "Dl Size...: 100%"
          }
        },
        "9d499c1776e04e92a84c31000c7f1f62": {
          "model_module": "@jupyter-widgets/controls",
          "model_name": "FloatProgressModel",
          "model_module_version": "1.5.0",
          "state": {
            "_dom_classes": [],
            "_model_module": "@jupyter-widgets/controls",
            "_model_module_version": "1.5.0",
            "_model_name": "FloatProgressModel",
            "_view_count": null,
            "_view_module": "@jupyter-widgets/controls",
            "_view_module_version": "1.5.0",
            "_view_name": "ProgressView",
            "bar_style": "success",
            "description": "",
            "description_tooltip": null,
            "layout": "IPY_MODEL_e737ffc4e8374be7b3a2a14cf288b457",
            "max": 1,
            "min": 0,
            "orientation": "horizontal",
            "style": "IPY_MODEL_7300c63a332748f589179b0afe633b73",
            "value": 1
          }
        },
        "aeb8078123d847099944d938171ab48b": {
          "model_module": "@jupyter-widgets/controls",
          "model_name": "HTMLModel",
          "model_module_version": "1.5.0",
          "state": {
            "_dom_classes": [],
            "_model_module": "@jupyter-widgets/controls",
            "_model_module_version": "1.5.0",
            "_model_name": "HTMLModel",
            "_view_count": null,
            "_view_module": "@jupyter-widgets/controls",
            "_view_module_version": "1.5.0",
            "_view_name": "HTMLView",
            "description": "",
            "description_tooltip": null,
            "layout": "IPY_MODEL_c73911ca067b45b699a370c6c082e93f",
            "placeholder": "​",
            "style": "IPY_MODEL_3baa0c2a7bdc4d6893725a04ee2074bb",
            "value": " 8941459247/8941459247 [00:11&lt;00:00, 774906340.58 MiB/s]"
          }
        },
        "f41d67ea762c4e168c76d6b485d4d9a6": {
          "model_module": "@jupyter-widgets/base",
          "model_name": "LayoutModel",
          "model_module_version": "1.2.0",
          "state": {
            "_model_module": "@jupyter-widgets/base",
            "_model_module_version": "1.2.0",
            "_model_name": "LayoutModel",
            "_view_count": null,
            "_view_module": "@jupyter-widgets/base",
            "_view_module_version": "1.2.0",
            "_view_name": "LayoutView",
            "align_content": null,
            "align_items": null,
            "align_self": null,
            "border": null,
            "bottom": null,
            "display": null,
            "flex": null,
            "flex_flow": null,
            "grid_area": null,
            "grid_auto_columns": null,
            "grid_auto_flow": null,
            "grid_auto_rows": null,
            "grid_column": null,
            "grid_gap": null,
            "grid_row": null,
            "grid_template_areas": null,
            "grid_template_columns": null,
            "grid_template_rows": null,
            "height": null,
            "justify_content": null,
            "justify_items": null,
            "left": null,
            "margin": null,
            "max_height": null,
            "max_width": null,
            "min_height": null,
            "min_width": null,
            "object_fit": null,
            "object_position": null,
            "order": null,
            "overflow": null,
            "overflow_x": null,
            "overflow_y": null,
            "padding": null,
            "right": null,
            "top": null,
            "visibility": null,
            "width": null
          }
        },
        "ec0907ad9c3a4162bc43813346f03e10": {
          "model_module": "@jupyter-widgets/base",
          "model_name": "LayoutModel",
          "model_module_version": "1.2.0",
          "state": {
            "_model_module": "@jupyter-widgets/base",
            "_model_module_version": "1.2.0",
            "_model_name": "LayoutModel",
            "_view_count": null,
            "_view_module": "@jupyter-widgets/base",
            "_view_module_version": "1.2.0",
            "_view_name": "LayoutView",
            "align_content": null,
            "align_items": null,
            "align_self": null,
            "border": null,
            "bottom": null,
            "display": null,
            "flex": null,
            "flex_flow": null,
            "grid_area": null,
            "grid_auto_columns": null,
            "grid_auto_flow": null,
            "grid_auto_rows": null,
            "grid_column": null,
            "grid_gap": null,
            "grid_row": null,
            "grid_template_areas": null,
            "grid_template_columns": null,
            "grid_template_rows": null,
            "height": null,
            "justify_content": null,
            "justify_items": null,
            "left": null,
            "margin": null,
            "max_height": null,
            "max_width": null,
            "min_height": null,
            "min_width": null,
            "object_fit": null,
            "object_position": null,
            "order": null,
            "overflow": null,
            "overflow_x": null,
            "overflow_y": null,
            "padding": null,
            "right": null,
            "top": null,
            "visibility": null,
            "width": null
          }
        },
        "154c052f91314d3b8c331afa7d3a742b": {
          "model_module": "@jupyter-widgets/controls",
          "model_name": "DescriptionStyleModel",
          "model_module_version": "1.5.0",
          "state": {
            "_model_module": "@jupyter-widgets/controls",
            "_model_module_version": "1.5.0",
            "_model_name": "DescriptionStyleModel",
            "_view_count": null,
            "_view_module": "@jupyter-widgets/base",
            "_view_module_version": "1.2.0",
            "_view_name": "StyleView",
            "description_width": ""
          }
        },
        "e737ffc4e8374be7b3a2a14cf288b457": {
          "model_module": "@jupyter-widgets/base",
          "model_name": "LayoutModel",
          "model_module_version": "1.2.0",
          "state": {
            "_model_module": "@jupyter-widgets/base",
            "_model_module_version": "1.2.0",
            "_model_name": "LayoutModel",
            "_view_count": null,
            "_view_module": "@jupyter-widgets/base",
            "_view_module_version": "1.2.0",
            "_view_name": "LayoutView",
            "align_content": null,
            "align_items": null,
            "align_self": null,
            "border": null,
            "bottom": null,
            "display": null,
            "flex": null,
            "flex_flow": null,
            "grid_area": null,
            "grid_auto_columns": null,
            "grid_auto_flow": null,
            "grid_auto_rows": null,
            "grid_column": null,
            "grid_gap": null,
            "grid_row": null,
            "grid_template_areas": null,
            "grid_template_columns": null,
            "grid_template_rows": null,
            "height": null,
            "justify_content": null,
            "justify_items": null,
            "left": null,
            "margin": null,
            "max_height": null,
            "max_width": null,
            "min_height": null,
            "min_width": null,
            "object_fit": null,
            "object_position": null,
            "order": null,
            "overflow": null,
            "overflow_x": null,
            "overflow_y": null,
            "padding": null,
            "right": null,
            "top": null,
            "visibility": null,
            "width": "20px"
          }
        },
        "7300c63a332748f589179b0afe633b73": {
          "model_module": "@jupyter-widgets/controls",
          "model_name": "ProgressStyleModel",
          "model_module_version": "1.5.0",
          "state": {
            "_model_module": "@jupyter-widgets/controls",
            "_model_module_version": "1.5.0",
            "_model_name": "ProgressStyleModel",
            "_view_count": null,
            "_view_module": "@jupyter-widgets/base",
            "_view_module_version": "1.2.0",
            "_view_name": "StyleView",
            "bar_color": null,
            "description_width": ""
          }
        },
        "c73911ca067b45b699a370c6c082e93f": {
          "model_module": "@jupyter-widgets/base",
          "model_name": "LayoutModel",
          "model_module_version": "1.2.0",
          "state": {
            "_model_module": "@jupyter-widgets/base",
            "_model_module_version": "1.2.0",
            "_model_name": "LayoutModel",
            "_view_count": null,
            "_view_module": "@jupyter-widgets/base",
            "_view_module_version": "1.2.0",
            "_view_name": "LayoutView",
            "align_content": null,
            "align_items": null,
            "align_self": null,
            "border": null,
            "bottom": null,
            "display": null,
            "flex": null,
            "flex_flow": null,
            "grid_area": null,
            "grid_auto_columns": null,
            "grid_auto_flow": null,
            "grid_auto_rows": null,
            "grid_column": null,
            "grid_gap": null,
            "grid_row": null,
            "grid_template_areas": null,
            "grid_template_columns": null,
            "grid_template_rows": null,
            "height": null,
            "justify_content": null,
            "justify_items": null,
            "left": null,
            "margin": null,
            "max_height": null,
            "max_width": null,
            "min_height": null,
            "min_width": null,
            "object_fit": null,
            "object_position": null,
            "order": null,
            "overflow": null,
            "overflow_x": null,
            "overflow_y": null,
            "padding": null,
            "right": null,
            "top": null,
            "visibility": null,
            "width": null
          }
        },
        "3baa0c2a7bdc4d6893725a04ee2074bb": {
          "model_module": "@jupyter-widgets/controls",
          "model_name": "DescriptionStyleModel",
          "model_module_version": "1.5.0",
          "state": {
            "_model_module": "@jupyter-widgets/controls",
            "_model_module_version": "1.5.0",
            "_model_name": "DescriptionStyleModel",
            "_view_count": null,
            "_view_module": "@jupyter-widgets/base",
            "_view_module_version": "1.2.0",
            "_view_name": "StyleView",
            "description_width": ""
          }
        },
        "6550586233514c2183b997985d7b1f79": {
          "model_module": "@jupyter-widgets/controls",
          "model_name": "HBoxModel",
          "model_module_version": "1.5.0",
          "state": {
            "_dom_classes": [],
            "_model_module": "@jupyter-widgets/controls",
            "_model_module_version": "1.5.0",
            "_model_name": "HBoxModel",
            "_view_count": null,
            "_view_module": "@jupyter-widgets/controls",
            "_view_module_version": "1.5.0",
            "_view_name": "HBoxView",
            "box_style": "",
            "children": [
              "IPY_MODEL_b637b750b6ad4007b4a26b129ec32885",
              "IPY_MODEL_9d9889bd6fdc438db74061324f87d5cd",
              "IPY_MODEL_e68bd1c760014ea1985ac98071a55dc0"
            ],
            "layout": "IPY_MODEL_b02b40b708a04f82943a720baf41ee8e"
          }
        },
        "b637b750b6ad4007b4a26b129ec32885": {
          "model_module": "@jupyter-widgets/controls",
          "model_name": "HTMLModel",
          "model_module_version": "1.5.0",
          "state": {
            "_dom_classes": [],
            "_model_module": "@jupyter-widgets/controls",
            "_model_module_version": "1.5.0",
            "_model_name": "HTMLModel",
            "_view_count": null,
            "_view_module": "@jupyter-widgets/controls",
            "_view_module_version": "1.5.0",
            "_view_name": "HTMLView",
            "description": "",
            "description_tooltip": null,
            "layout": "IPY_MODEL_32f94a771b2245fca81019d1324437ff",
            "placeholder": "​",
            "style": "IPY_MODEL_e50f1bc0841a481e893747fd2abca8ef",
            "value": "Extraction completed...: "
          }
        },
        "9d9889bd6fdc438db74061324f87d5cd": {
          "model_module": "@jupyter-widgets/controls",
          "model_name": "FloatProgressModel",
          "model_module_version": "1.5.0",
          "state": {
            "_dom_classes": [],
            "_model_module": "@jupyter-widgets/controls",
            "_model_module_version": "1.5.0",
            "_model_name": "FloatProgressModel",
            "_view_count": null,
            "_view_module": "@jupyter-widgets/controls",
            "_view_module_version": "1.5.0",
            "_view_name": "ProgressView",
            "bar_style": "success",
            "description": "",
            "description_tooltip": null,
            "layout": "IPY_MODEL_9daee2ee1edf4e35ade661f3097734d6",
            "max": 1,
            "min": 0,
            "orientation": "horizontal",
            "style": "IPY_MODEL_498720f972c04650b3bd1d6d86383b19",
            "value": 0
          }
        },
        "e68bd1c760014ea1985ac98071a55dc0": {
          "model_module": "@jupyter-widgets/controls",
          "model_name": "HTMLModel",
          "model_module_version": "1.5.0",
          "state": {
            "_dom_classes": [],
            "_model_module": "@jupyter-widgets/controls",
            "_model_module_version": "1.5.0",
            "_model_name": "HTMLModel",
            "_view_count": null,
            "_view_module": "@jupyter-widgets/controls",
            "_view_module_version": "1.5.0",
            "_view_name": "HTMLView",
            "description": "",
            "description_tooltip": null,
            "layout": "IPY_MODEL_c67cc9c0586b4cf98b73f94841206954",
            "placeholder": "​",
            "style": "IPY_MODEL_8f5f2638e226421ab3573cea0fa9dde2",
            "value": " 0/0 [00:11&lt;?, ? file/s]"
          }
        },
        "b02b40b708a04f82943a720baf41ee8e": {
          "model_module": "@jupyter-widgets/base",
          "model_name": "LayoutModel",
          "model_module_version": "1.2.0",
          "state": {
            "_model_module": "@jupyter-widgets/base",
            "_model_module_version": "1.2.0",
            "_model_name": "LayoutModel",
            "_view_count": null,
            "_view_module": "@jupyter-widgets/base",
            "_view_module_version": "1.2.0",
            "_view_name": "LayoutView",
            "align_content": null,
            "align_items": null,
            "align_self": null,
            "border": null,
            "bottom": null,
            "display": null,
            "flex": null,
            "flex_flow": null,
            "grid_area": null,
            "grid_auto_columns": null,
            "grid_auto_flow": null,
            "grid_auto_rows": null,
            "grid_column": null,
            "grid_gap": null,
            "grid_row": null,
            "grid_template_areas": null,
            "grid_template_columns": null,
            "grid_template_rows": null,
            "height": null,
            "justify_content": null,
            "justify_items": null,
            "left": null,
            "margin": null,
            "max_height": null,
            "max_width": null,
            "min_height": null,
            "min_width": null,
            "object_fit": null,
            "object_position": null,
            "order": null,
            "overflow": null,
            "overflow_x": null,
            "overflow_y": null,
            "padding": null,
            "right": null,
            "top": null,
            "visibility": null,
            "width": null
          }
        },
        "32f94a771b2245fca81019d1324437ff": {
          "model_module": "@jupyter-widgets/base",
          "model_name": "LayoutModel",
          "model_module_version": "1.2.0",
          "state": {
            "_model_module": "@jupyter-widgets/base",
            "_model_module_version": "1.2.0",
            "_model_name": "LayoutModel",
            "_view_count": null,
            "_view_module": "@jupyter-widgets/base",
            "_view_module_version": "1.2.0",
            "_view_name": "LayoutView",
            "align_content": null,
            "align_items": null,
            "align_self": null,
            "border": null,
            "bottom": null,
            "display": null,
            "flex": null,
            "flex_flow": null,
            "grid_area": null,
            "grid_auto_columns": null,
            "grid_auto_flow": null,
            "grid_auto_rows": null,
            "grid_column": null,
            "grid_gap": null,
            "grid_row": null,
            "grid_template_areas": null,
            "grid_template_columns": null,
            "grid_template_rows": null,
            "height": null,
            "justify_content": null,
            "justify_items": null,
            "left": null,
            "margin": null,
            "max_height": null,
            "max_width": null,
            "min_height": null,
            "min_width": null,
            "object_fit": null,
            "object_position": null,
            "order": null,
            "overflow": null,
            "overflow_x": null,
            "overflow_y": null,
            "padding": null,
            "right": null,
            "top": null,
            "visibility": null,
            "width": null
          }
        },
        "e50f1bc0841a481e893747fd2abca8ef": {
          "model_module": "@jupyter-widgets/controls",
          "model_name": "DescriptionStyleModel",
          "model_module_version": "1.5.0",
          "state": {
            "_model_module": "@jupyter-widgets/controls",
            "_model_module_version": "1.5.0",
            "_model_name": "DescriptionStyleModel",
            "_view_count": null,
            "_view_module": "@jupyter-widgets/base",
            "_view_module_version": "1.2.0",
            "_view_name": "StyleView",
            "description_width": ""
          }
        },
        "9daee2ee1edf4e35ade661f3097734d6": {
          "model_module": "@jupyter-widgets/base",
          "model_name": "LayoutModel",
          "model_module_version": "1.2.0",
          "state": {
            "_model_module": "@jupyter-widgets/base",
            "_model_module_version": "1.2.0",
            "_model_name": "LayoutModel",
            "_view_count": null,
            "_view_module": "@jupyter-widgets/base",
            "_view_module_version": "1.2.0",
            "_view_name": "LayoutView",
            "align_content": null,
            "align_items": null,
            "align_self": null,
            "border": null,
            "bottom": null,
            "display": null,
            "flex": null,
            "flex_flow": null,
            "grid_area": null,
            "grid_auto_columns": null,
            "grid_auto_flow": null,
            "grid_auto_rows": null,
            "grid_column": null,
            "grid_gap": null,
            "grid_row": null,
            "grid_template_areas": null,
            "grid_template_columns": null,
            "grid_template_rows": null,
            "height": null,
            "justify_content": null,
            "justify_items": null,
            "left": null,
            "margin": null,
            "max_height": null,
            "max_width": null,
            "min_height": null,
            "min_width": null,
            "object_fit": null,
            "object_position": null,
            "order": null,
            "overflow": null,
            "overflow_x": null,
            "overflow_y": null,
            "padding": null,
            "right": null,
            "top": null,
            "visibility": null,
            "width": "20px"
          }
        },
        "498720f972c04650b3bd1d6d86383b19": {
          "model_module": "@jupyter-widgets/controls",
          "model_name": "ProgressStyleModel",
          "model_module_version": "1.5.0",
          "state": {
            "_model_module": "@jupyter-widgets/controls",
            "_model_module_version": "1.5.0",
            "_model_name": "ProgressStyleModel",
            "_view_count": null,
            "_view_module": "@jupyter-widgets/base",
            "_view_module_version": "1.2.0",
            "_view_name": "StyleView",
            "bar_color": null,
            "description_width": ""
          }
        },
        "c67cc9c0586b4cf98b73f94841206954": {
          "model_module": "@jupyter-widgets/base",
          "model_name": "LayoutModel",
          "model_module_version": "1.2.0",
          "state": {
            "_model_module": "@jupyter-widgets/base",
            "_model_module_version": "1.2.0",
            "_model_name": "LayoutModel",
            "_view_count": null,
            "_view_module": "@jupyter-widgets/base",
            "_view_module_version": "1.2.0",
            "_view_name": "LayoutView",
            "align_content": null,
            "align_items": null,
            "align_self": null,
            "border": null,
            "bottom": null,
            "display": null,
            "flex": null,
            "flex_flow": null,
            "grid_area": null,
            "grid_auto_columns": null,
            "grid_auto_flow": null,
            "grid_auto_rows": null,
            "grid_column": null,
            "grid_gap": null,
            "grid_row": null,
            "grid_template_areas": null,
            "grid_template_columns": null,
            "grid_template_rows": null,
            "height": null,
            "justify_content": null,
            "justify_items": null,
            "left": null,
            "margin": null,
            "max_height": null,
            "max_width": null,
            "min_height": null,
            "min_width": null,
            "object_fit": null,
            "object_position": null,
            "order": null,
            "overflow": null,
            "overflow_x": null,
            "overflow_y": null,
            "padding": null,
            "right": null,
            "top": null,
            "visibility": null,
            "width": null
          }
        },
        "8f5f2638e226421ab3573cea0fa9dde2": {
          "model_module": "@jupyter-widgets/controls",
          "model_name": "DescriptionStyleModel",
          "model_module_version": "1.5.0",
          "state": {
            "_model_module": "@jupyter-widgets/controls",
            "_model_module_version": "1.5.0",
            "_model_name": "DescriptionStyleModel",
            "_view_count": null,
            "_view_module": "@jupyter-widgets/base",
            "_view_module_version": "1.2.0",
            "_view_name": "StyleView",
            "description_width": ""
          }
        }
      }
    }
  },
  "cells": [
    {
      "cell_type": "markdown",
      "source": [
        "Before starting the program, upload the animal_latin_colloquial.csv file from data folder to home folder in google colab"
      ],
      "metadata": {
        "id": "gBO5jcSMYOgW"
      }
    },
    {
      "cell_type": "code",
      "source": [
        "import os\n",
        "import requests\n",
        "import pandas as pd\n",
        "from PIL import Image\n",
        "from io import BytesIO\n",
        "from requests.adapters import HTTPAdapter\n",
        "from requests.packages.urllib3.util.retry import Retry\n",
        "from tqdm import tqdm  # Progress bar\n",
        "\n",
        "# For loading in dataset images and annotations\n",
        "import json\n",
        "import os\n",
        "\n",
        "from etils import epath\n",
        "import numpy as np\n",
        "import tensorflow_datasets.public_api as tfds\n",
        "\n",
        "# Displaying sample images\n",
        "import itertools\n",
        "\n",
        "import tarfile\n",
        "import glob\n",
        "import re\n",
        "import matplotlib.pyplot as plt\n",
        "import matplotlib.image as mpimg"
      ],
      "metadata": {
        "id": "7hiVrp5rZVz8"
      },
      "execution_count": 2,
      "outputs": []
    },
    {
      "cell_type": "code",
      "source": [
        "# Animal Pipeline class from src/preprocessing folder\n",
        "class AnimalPipeline:\n",
        "    def __init__(self, dataset_path):\n",
        "        self.dataset = pd.read_csv(dataset_path)\n",
        "        self.dataset['Colloquial Name'] = self.dataset['Colloquial Name'].str.strip().str.lower()\n",
        "        self.dataset['Latin Name'] = self.dataset['Latin Name'].str.strip().str.lower()\n",
        "\n",
        "    def sanitize_name(self, name):\n",
        "        \"\"\" Sanitize the input name to match the dataset format. \"\"\"\n",
        "        return name.strip().lower()  # Convert to lowercase and remove leading/trailing spaces\n",
        "\n",
        "    def animal_exists(self, colloquial_name):\n",
        "        \"\"\" Check if an animal exists in the dataset by its colloquial name. \"\"\"\n",
        "        sanitized_name = self.sanitize_name(colloquial_name)\n",
        "        exists = not self.dataset[self.dataset['Colloquial Name'] == sanitized_name].empty\n",
        "        if exists:\n",
        "            print(f\"'{colloquial_name}' exists in the dataset.\")\n",
        "        else:\n",
        "            print(f\"'{colloquial_name}' does not exist in the dataset.\")\n",
        "        return exists\n",
        "\n",
        "    def get_latin_name(self, colloquial_name):\n",
        "        \"\"\" Get the Latin name for a given colloquial name if it exists. \"\"\"\n",
        "        sanitized_name = self.sanitize_name(colloquial_name)\n",
        "        result = self.dataset[self.dataset['Colloquial Name'] == sanitized_name]\n",
        "        if not result.empty:\n",
        "            latin_name = result['Latin Name'].values[0]\n",
        "            return latin_name\n",
        "        else:\n",
        "            print(f\"No Latin name found for '{colloquial_name}' in the dataset.\")\n",
        "            return None\n",
        "\n",
        "    def get_latin_names(self, colloquial_names):\n",
        "        \"\"\" Get a list of Latin names for the given list of colloquial names. \"\"\"\n",
        "        latin_names = []\n",
        "        for name in colloquial_names:\n",
        "            latin_name = self.get_latin_name(name)\n",
        "            if latin_name:\n",
        "                latin_names.append(latin_name)\n",
        "        return latin_names\n",
        "\n",
        "    def check_latin_name(self, latin_name):\n",
        "        \"\"\" Check if a Latin name exists in the dataset. \"\"\"\n",
        "        sanitized_name = self.sanitize_name(latin_name)\n",
        "        exists = not self.dataset[self.dataset['Latin Name'] == sanitized_name].empty\n",
        "        return exists"
      ],
      "metadata": {
        "id": "TDIO1MeDmGuF"
      },
      "execution_count": 3,
      "outputs": []
    },
    {
      "cell_type": "code",
      "source": [
        "IMG_HEIGHT = 180     # image size depends on the model, ResNet, VGG and InceptionV3 uses 180. But EfficientNetB0 uses 224x224\n",
        "IMG_WIDTH = 180"
      ],
      "metadata": {
        "id": "ka2Ls8jVmDyV"
      },
      "execution_count": 4,
      "outputs": []
    },
    {
      "cell_type": "markdown",
      "source": [
        "# Gathering species and number of images per species"
      ],
      "metadata": {
        "id": "5Nw7lTWQpCeJ"
      }
    },
    {
      "cell_type": "code",
      "source": [
        "species_names = []\n",
        "numAnimals = int(input(\"Enter the number of animals you want to train: \\n\"))\n",
        "for i in range(numAnimals):\n",
        "    species_names.append(input(\"Enter the name of the animal: \\n\"))\n",
        "\n",
        "max_images_per_species = int(input(\"Enter the maximum number of images you want to download for each animal: \\n\"))\n",
        "\n",
        "file_path = \"/home/animal_latin_colloquial.csv\"\n",
        "\n",
        "pipeline = AnimalPipeline(file_path)\n",
        "\n",
        "for name in species_names.copy():\n",
        "    if pipeline.animal_exists(name) == False:\n",
        "        if pipeline.check_latin_name(name) == False:\n",
        "            print(f\"{name} does not exist in the dataset. Please enter a valid animal name.\")\n",
        "            species_names.remove(name)\n",
        "            continue\n",
        "    latin_name = pipeline.get_latin_name(name)\n",
        "    species_names.remove(name)\n",
        "    species_names.append(latin_name)"
      ],
      "metadata": {
        "colab": {
          "base_uri": "https://localhost:8080/"
        },
        "id": "-THozWwnmqsb",
        "outputId": "4598ee11-c3f8-4c90-f7db-21a3a4a33720"
      },
      "execution_count": 5,
      "outputs": [
        {
          "output_type": "stream",
          "name": "stdout",
          "text": [
            "Enter the number of animals you want to train: \n",
            "1\n",
            "Enter the name of the animal: \n",
            "lion\n",
            "Enter the maximum number of images you want to download for each animal: \n",
            "1\n",
            "'lion' exists in the dataset.\n"
          ]
        }
      ]
    },
    {
      "cell_type": "markdown",
      "source": [
        "# Loading inaturalist images via iNaturalist API"
      ],
      "metadata": {
        "id": "7v74cIZcosMU"
      }
    },
    {
      "cell_type": "code",
      "source": [
        "# Function to download and resize image\n",
        "def download_and_resize_image(url, save_dir, obs_id, max_size=(IMG_HEIGHT, IMG_WIDTH)):\n",
        "    try:\n",
        "        response = requests.get(url, timeout=10)\n",
        "        response.raise_for_status()\n",
        "        img = Image.open(BytesIO(response.content))\n",
        "        img.thumbnail(max_size)\n",
        "\n",
        "        # Ensure the save directory exists\n",
        "        os.makedirs(save_dir, exist_ok=True)\n",
        "\n",
        "        # Save the image with a unique name based on the observation ID\n",
        "        img_name = f\"{obs_id}.jpg\"\n",
        "        img_path = os.path.join(save_dir, img_name)\n",
        "        img.save(img_path)\n",
        "        return img_path\n",
        "    except Exception as e:\n",
        "        return None"
      ],
      "metadata": {
        "id": "djOORSiK8SKU"
      },
      "execution_count": 6,
      "outputs": []
    },
    {
      "cell_type": "code",
      "source": [
        "session = requests.Session()\n",
        "retry_strategy = Retry(\n",
        "    total=3,\n",
        "    status_forcelist=[429, 500, 502, 503, 504],\n",
        "    backoff_factor=1\n",
        ")\n",
        "adapter = HTTPAdapter(max_retries=retry_strategy)\n",
        "session.mount('https://', adapter)\n",
        "\n",
        "for species_name in species_names:\n",
        "    try:\n",
        "        # Directory to save images for the current species, change as needed\n",
        "        save_dir = f'/home/DataSet/{species_name.replace(\" \", \"_\")}_images'\n",
        "\n",
        "        # Fetch taxon ID for the current species name\n",
        "        search_response = session.get(f'https://api.inaturalist.org/v1/taxa?q={species_name}&rank=species', timeout=10).json()\n",
        "        if not search_response['results']:\n",
        "            print(f\"No taxon found for species: {species_name}\")\n",
        "            continue\n",
        "\n",
        "        # Assume the first result is the desired species\n",
        "        taxon_id = search_response['results'][0]['id']\n",
        "\n",
        "        observation_ids = []\n",
        "        image_urls = []\n",
        "        common_names = []\n",
        "        scientific_names = []\n",
        "\n",
        "        valid_image_count = 0\n",
        "\n",
        "        # Fetch observations for the current species until the desired number of images is reached\n",
        "        page = 1\n",
        "        while valid_image_count < max_images_per_species:\n",
        "            observations_response = session.get(\n",
        "                f'https://api.inaturalist.org/v1/observations?taxon_id={taxon_id}&per_page=200&page={page}', timeout=10\n",
        "            ).json()\n",
        "            observations = observations_response['results']\n",
        "\n",
        "            if not observations:\n",
        "                break\n",
        "\n",
        "            for observation in tqdm(observations, desc=f'Processing observations for {species_name}'):\n",
        "                if valid_image_count >= max_images_per_species:\n",
        "                    break\n",
        "\n",
        "                # Extract and store observation details\n",
        "                obs_id = observation['id']\n",
        "                taxon = observation.get('taxon')\n",
        "                if taxon:\n",
        "                    common_name = taxon.get('preferred_common_name', 'No common name available')\n",
        "                    scientific_name = taxon.get('name', 'No scientific name available')\n",
        "                else:\n",
        "                    common_name = 'No common name available'\n",
        "                    scientific_name = 'No scientific name available'\n",
        "\n",
        "                # Extract and store image data\n",
        "                if 'observation_photos' in observation and observation['observation_photos']:\n",
        "                    photo = observation['observation_photos'][0]['photo']\n",
        "                    image_url = photo['url']\n",
        "                    image_path = download_and_resize_image(image_url, save_dir=save_dir, obs_id=obs_id)\n",
        "                    if image_path:\n",
        "                        observation_ids.append(obs_id)\n",
        "                        common_names.append(common_name)\n",
        "                        scientific_names.append(scientific_name)\n",
        "                        image_urls.append(image_url)\n",
        "                        valid_image_count += 1\n",
        "\n",
        "            page += 1\n",
        "\n",
        "        # Create a DataFrame with observation details for the current species\n",
        "        data = {\n",
        "            'Observation ID': observation_ids,\n",
        "            'Common Name': common_names,\n",
        "            'Scientific Name': scientific_names,\n",
        "            'Image URL': image_urls,\n",
        "            'Image Path': [os.path.join(save_dir, f\"{obs_id}.jpg\") for obs_id in observation_ids]\n",
        "        }\n",
        "        df = pd.DataFrame(data)\n",
        "\n",
        "        # Cap the dataset size to match the number of images available\n",
        "        if valid_image_count < max_images_per_species:\n",
        "            df = df.head(valid_image_count)\n",
        "\n",
        "        # Save to a CSV file for the current species, change as needed\n",
        "        csv_path = f'/home/{species_name.replace(\" \", \"_\")}_dataset.csv'\n",
        "        df.to_csv(csv_path, index=False)\n",
        "\n",
        "        print(f\"Data saved to {csv_path} for species: {species_name}\")\n",
        "\n",
        "    except requests.exceptions.HTTPError as e:\n",
        "        print(f\"HTTP error occurred: {e}\")"
      ],
      "metadata": {
        "id": "Gt6_uK1j-E30",
        "colab": {
          "base_uri": "https://localhost:8080/"
        },
        "outputId": "eb95fa1e-c638-4d37-b82e-f73775426355"
      },
      "execution_count": 7,
      "outputs": [
        {
          "output_type": "stream",
          "name": "stderr",
          "text": [
            "Processing observations for panthera leo:   0%|          | 1/200 [00:00<01:10,  2.84it/s]"
          ]
        },
        {
          "output_type": "stream",
          "name": "stdout",
          "text": [
            "Data saved to /home/panthera_leo_dataset.csv for species: panthera leo\n"
          ]
        },
        {
          "output_type": "stream",
          "name": "stderr",
          "text": [
            "\n"
          ]
        }
      ]
    },
    {
      "cell_type": "code",
      "source": [
        "# Count number of images downloaded\n",
        "path = '/home/DataSet'\n",
        "folders = os.listdir(path)\n",
        "totalImages = 0\n",
        "for folder in folders:\n",
        "  images = os.listdir(f\"{path}/{folder}\")\n",
        "  totalImages += len(images)\n",
        "\n",
        "print(totalImages)"
      ],
      "metadata": {
        "id": "D4BY33NYBd6Y",
        "colab": {
          "base_uri": "https://localhost:8080/"
        },
        "outputId": "866afe2d-fd2e-4613-8a82-38a33b337a85"
      },
      "execution_count": 8,
      "outputs": [
        {
          "output_type": "stream",
          "name": "stdout",
          "text": [
            "3\n"
          ]
        }
      ]
    },
    {
      "cell_type": "markdown",
      "source": [
        "# Loading inaturalist images via inat competition 2021"
      ],
      "metadata": {
        "id": "p7821JYxowqv"
      }
    },
    {
      "cell_type": "markdown",
      "source": [
        "## Setup"
      ],
      "metadata": {
        "id": "EN-jz3ZdpYo4"
      }
    },
    {
      "cell_type": "code",
      "source": [
        "dm = tfds.download.DownloadManager(download_dir='/home')\n",
        "\n",
        "URL = 'https://ml-inat-competition-datasets.s3.amazonaws.com/2021'    # endpoint to load images from\n",
        "\n",
        "# maps split type to split file name\n",
        "SPLIT_FILENAMES = {\n",
        "    'train': 'train',\n",
        "    'mini': 'train_mini',\n",
        "    'val': 'val',\n",
        "    'test': 'public_test',\n",
        "}\n",
        "\n",
        "# Only load validation set\n",
        "SPLIT = 'val'\n",
        "SPLIT_FILE = SPLIT_FILENAMES[SPLIT]\n",
        "\n",
        "# maps dataset to split tar & json files\n",
        "splitDownloads = {}"
      ],
      "metadata": {
        "id": "JXh3xo6sDEHL"
      },
      "execution_count": 9,
      "outputs": []
    },
    {
      "cell_type": "markdown",
      "source": [
        "## Download"
      ],
      "metadata": {
        "id": "TALrHfwCpawC"
      }
    },
    {
      "cell_type": "code",
      "source": [
        "# download image tar file\n",
        "splitDownloads[f'{SPLIT}_img'] =  tfds.download.Resource(\n",
        "          url=f'{URL}/{SPLIT_FILE}.tar.gz',\n",
        "          extract_method=tfds.download.ExtractMethod.NO_EXTRACT,\n",
        "      )\n",
        "# download json annotation file\n",
        "splitDownloads[f'{SPLIT}_json'] = f'{URL}/{SPLIT_FILE}.json.tar.gz'\n",
        "\n",
        "print(splitDownloads)\n",
        "\n",
        "outputPaths = dm.download_and_extract(splitDownloads)     # downloading the tar file containing validation images"
      ],
      "metadata": {
        "id": "UJ7DiW5EDhGU",
        "colab": {
          "base_uri": "https://localhost:8080/",
          "height": 150,
          "referenced_widgets": [
            "0e303c7c0d8a415f80eb438626d08716",
            "4fa800d67def48a088eeb7aac2ad288b",
            "e2131799b38d4d3da5a41124a676f701",
            "8e6db83e086941a4bb91d2c53ee572b9",
            "06a369616a4745ce919176594d8bd478",
            "50e4b735508a4e99a3703ccb0c87b8f6",
            "3d7d0e28c11a45d9952350c6cd4cab84",
            "87a7a499e4164dcbb8d051f98efde6b8",
            "0a1ac4a883d0421dac5dd13a4e404b4e",
            "4a52931b6c0e444bae86ef32d7a31573",
            "31d80dc0dbf041e0a679fb07bdd5b434",
            "b3ab4230560d4b558473d557e0d2f989",
            "5a63a78a5bf54d9a8197a53bea9c0e1f",
            "9d499c1776e04e92a84c31000c7f1f62",
            "aeb8078123d847099944d938171ab48b",
            "f41d67ea762c4e168c76d6b485d4d9a6",
            "ec0907ad9c3a4162bc43813346f03e10",
            "154c052f91314d3b8c331afa7d3a742b",
            "e737ffc4e8374be7b3a2a14cf288b457",
            "7300c63a332748f589179b0afe633b73",
            "c73911ca067b45b699a370c6c082e93f",
            "3baa0c2a7bdc4d6893725a04ee2074bb",
            "6550586233514c2183b997985d7b1f79",
            "b637b750b6ad4007b4a26b129ec32885",
            "9d9889bd6fdc438db74061324f87d5cd",
            "e68bd1c760014ea1985ac98071a55dc0",
            "b02b40b708a04f82943a720baf41ee8e",
            "32f94a771b2245fca81019d1324437ff",
            "e50f1bc0841a481e893747fd2abca8ef",
            "9daee2ee1edf4e35ade661f3097734d6",
            "498720f972c04650b3bd1d6d86383b19",
            "c67cc9c0586b4cf98b73f94841206954",
            "8f5f2638e226421ab3573cea0fa9dde2"
          ]
        },
        "outputId": "20e461cb-0fc3-4361-934e-b3d6adde76ac"
      },
      "execution_count": 10,
      "outputs": [
        {
          "output_type": "stream",
          "name": "stdout",
          "text": [
            "{'val_img': <tensorflow_datasets.core.download.resource.Resource object at 0x7ea58e4b2290>, 'val_json': 'https://ml-inat-competition-datasets.s3.amazonaws.com/2021/val.json.tar.gz'}\n"
          ]
        },
        {
          "output_type": "display_data",
          "data": {
            "text/plain": [
              "Dl Completed...: 0 url [00:00, ? url/s]"
            ],
            "application/vnd.jupyter.widget-view+json": {
              "version_major": 2,
              "version_minor": 0,
              "model_id": "0e303c7c0d8a415f80eb438626d08716"
            }
          },
          "metadata": {}
        },
        {
          "output_type": "display_data",
          "data": {
            "text/plain": [
              "Dl Size...: 0 MiB [00:00, ? MiB/s]"
            ],
            "application/vnd.jupyter.widget-view+json": {
              "version_major": 2,
              "version_minor": 0,
              "model_id": "b3ab4230560d4b558473d557e0d2f989"
            }
          },
          "metadata": {}
        },
        {
          "output_type": "display_data",
          "data": {
            "text/plain": [
              "Extraction completed...: 0 file [00:00, ? file/s]"
            ],
            "application/vnd.jupyter.widget-view+json": {
              "version_major": 2,
              "version_minor": 0,
              "model_id": "6550586233514c2183b997985d7b1f79"
            }
          },
          "metadata": {}
        }
      ]
    },
    {
      "cell_type": "markdown",
      "metadata": {
        "id": "kc45dBqH59U-"
      },
      "source": [
        "## Retrieving annotations from JSON file to load images from validation dataset\n"
      ]
    },
    {
      "cell_type": "code",
      "execution_count": 11,
      "metadata": {
        "id": "EmAggrbQ6DNT"
      },
      "outputs": [],
      "source": [
        "# paths to loaded dataset\n",
        "\n",
        "imagesArchive = outputPaths[f'{SPLIT}_img']\n",
        "jsonFile = os.path.join(outputPaths[f'{SPLIT}_json'],f'{SPLIT_FILE}.json')"
      ]
    },
    {
      "cell_type": "code",
      "execution_count": 12,
      "metadata": {
        "id": "MzF_7trd6GIo"
      },
      "outputs": [],
      "source": [
        "with epath.Path(jsonFile).open('r') as f:\n",
        "      inatJson = json.load(f)"
      ]
    },
    {
      "cell_type": "code",
      "execution_count": 13,
      "metadata": {
        "id": "_S7UgmyK6Hax"
      },
      "outputs": [],
      "source": [
        "def format(label: str):\n",
        "      # replace ' ' with '_' in a string\n",
        "      return label.lower().replace(' ', '_')\n",
        "\n",
        "# retrieves annotations (categories, id and image directory) for an image\n",
        "def getAnnotation(idx, image_id):\n",
        "\n",
        "      if 'annotations' in inatJson:\n",
        "\n",
        "        # get the annotations object that matches our ID\n",
        "        annotation = inatJson['annotations'][idx]\n",
        "        assert annotation['image_id'] == image_id\n",
        "\n",
        "        # retrieve 'categories' object corresponding to the id in the annotation object\n",
        "        cat = inatJson['categories'][annotation['category_id']]\n",
        "\n",
        "        # extract important metadata\n",
        "        category = format(cat['name'])\n",
        "        superCategory = format(cat['supercategory'])\n",
        "        imageDirectory = cat['image_dir_name']\n",
        "\n",
        "      else:\n",
        "        # no metadata found\n",
        "        category, superCategory, imageDirectory = -1, -1, -1\n",
        "\n",
        "      return category, superCategory, imageDirectory"
      ]
    },
    {
      "cell_type": "markdown",
      "metadata": {
        "id": "pjgO8W3B6Pqx"
      },
      "source": [
        "## Curating collection of annotated images"
      ]
    },
    {
      "cell_type": "markdown",
      "source": [
        "###Filtering"
      ],
      "metadata": {
        "id": "NdetEw4-h1gt"
      }
    },
    {
      "cell_type": "markdown",
      "source": [
        "The code below allows us ensure that we only extract images related to vertebrates and our 5 selected species."
      ],
      "metadata": {
        "id": "AnEOc8jwh4nf"
      }
    },
    {
      "cell_type": "code",
      "execution_count": 14,
      "metadata": {
        "id": "WmBG5tUw6U1B"
      },
      "outputs": [],
      "source": [
        "# List containing the vertebrates recognised by iNaturalist Dataset\n",
        "vertebrates = [\"jawless_fishes\", \"hagfishes\", \"lampreys\", \"ray-finned_fishes\", \"amphibians\", \"birds\", \"elasmobranchs\", \"chimaeras\", \"mammals\", \"reptiles\", \"lobe-finned_fishes\"]"
      ]
    },
    {
      "cell_type": "code",
      "execution_count": 15,
      "metadata": {
        "colab": {
          "base_uri": "https://localhost:8080/"
        },
        "id": "M2ymWlRG6jp8",
        "outputId": "718c197c-141a-4dc2-aa1c-b0da697dd687"
      },
      "outputs": [
        {
          "output_type": "stream",
          "name": "stdout",
          "text": [
            "['panthera_leo']\n"
          ]
        }
      ],
      "source": [
        "# List containing the animals that user want to see/train on\n",
        "animalsToRetrieve = [format(name).lower() for name in species_names]      # formated so that images can be recognised\n",
        "print(animalsToRetrieve)"
      ]
    },
    {
      "cell_type": "markdown",
      "source": [
        "###Map images to their annotations"
      ],
      "metadata": {
        "id": "rMZYFONYjLe7"
      }
    },
    {
      "cell_type": "code",
      "execution_count": 16,
      "metadata": {
        "id": "lCckEJDn7jru"
      },
      "outputs": [],
      "source": [
        "annotatedFiles = {}   # stores specified annotation and metadata of species\n",
        "\n",
        "for idx, image in enumerate(inatJson['images']):\n",
        "\n",
        "  category, superCategory, imageDirectory = getAnnotation(idx, image['id'])\n",
        "  if (superCategory in vertebrates) and (category in animalsToRetrieve):      # Checking if the species is a vertebrate and checking latin name of the animal (using category)\n",
        "    field = os.path.basename(image['file_name']).split('.')[0]\n",
        "\n",
        "    annotatedFiles[field] = {\n",
        "        'id': image['id'],\n",
        "        'file_id': field,\n",
        "        'label': category,      # latin name\n",
        "        'superCategory': superCategory,\n",
        "        'imagedirectory' : imageDirectory,\n",
        "    }"
      ]
    },
    {
      "cell_type": "code",
      "execution_count": 17,
      "metadata": {
        "colab": {
          "base_uri": "https://localhost:8080/"
        },
        "id": "Vf2a00PU8L36",
        "outputId": "6444d57c-7c65-486e-bb70-220ea3be16e5"
      },
      "outputs": [
        {
          "output_type": "stream",
          "name": "stdout",
          "text": [
            "{'300262a5-cf42-4296-ad50-d9d305e19a80': {'id': 2687910, 'file_id': '300262a5-cf42-4296-ad50-d9d305e19a80', 'label': 'panthera_leo', 'superCategory': 'mammals', 'imagedirectory': '04682_Animalia_Chordata_Mammalia_Carnivora_Felidae_Panthera_leo'}, 'ca25da17-453a-472f-b0b1-8c46a36b2948': {'id': 2710221, 'file_id': 'ca25da17-453a-472f-b0b1-8c46a36b2948', 'label': 'panthera_leo', 'superCategory': 'mammals', 'imagedirectory': '04682_Animalia_Chordata_Mammalia_Carnivora_Felidae_Panthera_leo'}, 'ae9adbce-1809-4263-8737-020aee79e657': {'id': 2713425, 'file_id': 'ae9adbce-1809-4263-8737-020aee79e657', 'label': 'panthera_leo', 'superCategory': 'mammals', 'imagedirectory': '04682_Animalia_Chordata_Mammalia_Carnivora_Felidae_Panthera_leo'}, '83b87a73-0f1c-4bf0-9220-86d5789626d9': {'id': 2718258, 'file_id': '83b87a73-0f1c-4bf0-9220-86d5789626d9', 'label': 'panthera_leo', 'superCategory': 'mammals', 'imagedirectory': '04682_Animalia_Chordata_Mammalia_Carnivora_Felidae_Panthera_leo'}, 'bcbf1577-1003-4103-8f52-5cea72d5cd96': {'id': 2740320, 'file_id': 'bcbf1577-1003-4103-8f52-5cea72d5cd96', 'label': 'panthera_leo', 'superCategory': 'mammals', 'imagedirectory': '04682_Animalia_Chordata_Mammalia_Carnivora_Felidae_Panthera_leo'}, '25b3ef16-2528-409f-ba37-0b4e0bb92d2d': {'id': 2760875, 'file_id': '25b3ef16-2528-409f-ba37-0b4e0bb92d2d', 'label': 'panthera_leo', 'superCategory': 'mammals', 'imagedirectory': '04682_Animalia_Chordata_Mammalia_Carnivora_Felidae_Panthera_leo'}, '5dcbbcf8-e1b8-400b-b834-5c1e86885cff': {'id': 2772658, 'file_id': '5dcbbcf8-e1b8-400b-b834-5c1e86885cff', 'label': 'panthera_leo', 'superCategory': 'mammals', 'imagedirectory': '04682_Animalia_Chordata_Mammalia_Carnivora_Felidae_Panthera_leo'}, '8eb3b671-6ff9-4e0f-8367-4751570621e7': {'id': 2777958, 'file_id': '8eb3b671-6ff9-4e0f-8367-4751570621e7', 'label': 'panthera_leo', 'superCategory': 'mammals', 'imagedirectory': '04682_Animalia_Chordata_Mammalia_Carnivora_Felidae_Panthera_leo'}, 'b0f0d610-5aba-4df0-86ed-6594e43b567f': {'id': 2779849, 'file_id': 'b0f0d610-5aba-4df0-86ed-6594e43b567f', 'label': 'panthera_leo', 'superCategory': 'mammals', 'imagedirectory': '04682_Animalia_Chordata_Mammalia_Carnivora_Felidae_Panthera_leo'}, '4c0bfdd5-816c-45f4-b637-89d06f7ee157': {'id': 2781699, 'file_id': '4c0bfdd5-816c-45f4-b637-89d06f7ee157', 'label': 'panthera_leo', 'superCategory': 'mammals', 'imagedirectory': '04682_Animalia_Chordata_Mammalia_Carnivora_Felidae_Panthera_leo'}}\n",
            "10\n"
          ]
        }
      ],
      "source": [
        "print(annotatedFiles)\n",
        "print(len(annotatedFiles))\n"
      ]
    },
    {
      "cell_type": "markdown",
      "metadata": {
        "id": "piQJcxKL7qiV"
      },
      "source": [
        "## Extracting the images"
      ]
    },
    {
      "cell_type": "code",
      "execution_count": 18,
      "metadata": {
        "id": "7LlpZ5Eq7tHL"
      },
      "outputs": [],
      "source": [
        "# image file paths in tar.gz file\n",
        "imgToExtract = []\n",
        "\n",
        "try:\n",
        "  t = tarfile.open(imagesArchive, 'r')\n",
        "\n",
        "except IOError as e:\n",
        "  print(e)\n",
        "\n",
        "else:\n",
        "\n",
        "  for id,value in annotatedFiles.items():\n",
        "\n",
        "    # create image file path\n",
        "    imgFilePath = f\"val/{value['imagedirectory']}/{id}.jpg\"         # specfying the file path to store the extracted images\n",
        "    imgToExtract.append(imgFilePath)\n",
        "\n",
        "  t.extractall('/home', members=imgToExtract)\n"
      ]
    },
    {
      "cell_type": "markdown",
      "source": [
        "## Resizing and renaming"
      ],
      "metadata": {
        "id": "iZOa5NdsjWfy"
      }
    },
    {
      "cell_type": "code",
      "execution_count": 20,
      "metadata": {
        "id": "96y6SFqH_gNP",
        "colab": {
          "base_uri": "https://localhost:8080/",
          "height": 228
        },
        "outputId": "c025bcdf-9b78-4957-b7ce-ba6b25d0ce2f"
      },
      "outputs": [
        {
          "output_type": "error",
          "ename": "OSError",
          "evalue": "[Errno 39] Directory not empty: '/home/val/04770_Animalia_Chordata_Mammalia_Perissodactyla_Equidae_Equus_quagga' -> '/home/val/Equus_quagga_images'",
          "traceback": [
            "\u001b[0;31m---------------------------------------------------------------------------\u001b[0m",
            "\u001b[0;31mOSError\u001b[0m                                   Traceback (most recent call last)",
            "\u001b[0;32m<ipython-input-20-85cf2bde0d0c>\u001b[0m in \u001b[0;36m<cell line: 8>\u001b[0;34m()\u001b[0m\n\u001b[1;32m      8\u001b[0m \u001b[0;32mfor\u001b[0m \u001b[0mfolder\u001b[0m \u001b[0;32min\u001b[0m \u001b[0mdirs\u001b[0m\u001b[0;34m:\u001b[0m\u001b[0;34m\u001b[0m\u001b[0;34m\u001b[0m\u001b[0m\n\u001b[1;32m      9\u001b[0m   \u001b[0;31m# rename species folder\u001b[0m\u001b[0;34m\u001b[0m\u001b[0;34m\u001b[0m\u001b[0m\n\u001b[0;32m---> 10\u001b[0;31m   \u001b[0mos\u001b[0m\u001b[0;34m.\u001b[0m\u001b[0mrename\u001b[0m\u001b[0;34m(\u001b[0m\u001b[0;34mf\"{path}/{folder}\"\u001b[0m\u001b[0;34m,\u001b[0m \u001b[0;34mf\"{path}/{'_'.join(folder.split('_')[6::])}_images\"\u001b[0m\u001b[0;34m)\u001b[0m\u001b[0;34m\u001b[0m\u001b[0;34m\u001b[0m\u001b[0m\n\u001b[0m\u001b[1;32m     11\u001b[0m \u001b[0;34m\u001b[0m\u001b[0m\n\u001b[1;32m     12\u001b[0m   \u001b[0;31m# get path of each image in class folder\u001b[0m\u001b[0;34m\u001b[0m\u001b[0;34m\u001b[0m\u001b[0m\n",
            "\u001b[0;31mOSError\u001b[0m: [Errno 39] Directory not empty: '/home/val/04770_Animalia_Chordata_Mammalia_Perissodactyla_Equidae_Equus_quagga' -> '/home/val/Equus_quagga_images'"
          ]
        }
      ],
      "source": [
        "from PIL import Image\n",
        "import os,sys\n",
        "\n",
        "# rename all folders to match class names of the training dataset\n",
        "path = '/home/val'\n",
        "dirs = os.listdir(path)\n",
        "\n",
        "for folder in dirs:\n",
        "  # rename species folder\n",
        "  os.rename(f\"{path}/{folder}\", f\"{path}/{'_'.join(folder.split('_')[6::])}_images\")\n",
        "\n",
        "  # get path of each image in class folder\n",
        "  new_path = f\"{path}/{'_'.join(folder.split('_')[6::])}_images\"\n",
        "  image_dir = os.listdir(new_path)\n",
        "\n",
        "  for item in image_dir:\n",
        "    item_path = f\"{new_path}/{item}\"\n",
        "\n",
        "    if os.path.isfile(item_path):\n",
        "      im = Image.open(item_path)\n",
        "      f, e = os.path.splitext(item_path)\n",
        "      imResize = im.resize((IMG_HEIGHT, IMG_WIDTH))     # resizing image so that it can be read by the model\n",
        "      imResize.save(item_path,'JPEG', quality=90)"
      ]
    }
  ]
}